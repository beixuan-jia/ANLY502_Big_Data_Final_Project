{
 "cells": [
  {
   "cell_type": "code",
   "execution_count": 1,
   "metadata": {},
   "outputs": [
    {
     "data": {
      "text/html": [
       "\n",
       "        <div>\n",
       "            <p><b>SparkContext</b></p>\n",
       "\n",
       "            <p><a href=\"http://ip-172-31-6-152.ec2.internal:4040\">Spark UI</a></p>\n",
       "\n",
       "            <dl>\n",
       "              <dt>Version</dt>\n",
       "                <dd><code>v2.4.4</code></dd>\n",
       "              <dt>Master</dt>\n",
       "                <dd><code>yarn</code></dd>\n",
       "              <dt>AppName</dt>\n",
       "                <dd><code>News</code></dd>\n",
       "            </dl>\n",
       "        </div>\n",
       "        "
      ],
      "text/plain": [
       "<SparkContext master=yarn appName=News>"
      ]
     },
     "execution_count": 1,
     "metadata": {},
     "output_type": "execute_result"
    }
   ],
   "source": [
    "import findspark\n",
    "findspark.init()\n",
    "from pyspark import SparkContext, SparkConf\n",
    "from pyspark.sql import SparkSession\n",
    "spark = SparkSession.builder.appName(\"News\").getOrCreate()\n",
    "sc    = spark.sparkContext      # get the context\n",
    "spark\n",
    "sc"
   ]
  },
  {
   "cell_type": "code",
   "execution_count": 2,
   "metadata": {},
   "outputs": [],
   "source": [
    "# Example uses GDELT dataset found here: https://aws.amazon.com/public-datasets/gdelt/\n",
    "# Column headers found here: http://gdeltproject.org/data/lookups/CSV.header.dailyupdates.txt\n",
    "\n",
    "# Load RDD\n",
    "lines = sc.textFile(\"s3://gdelt-open-data/events/2016*\") # Loads 73,385,698 records from 2016"
   ]
  },
  {
   "cell_type": "code",
   "execution_count": 3,
   "metadata": {},
   "outputs": [],
   "source": [
    "# Split lines into columns; change split() argument depending on deliminiter e.g. '\\t'\n",
    "parts = lines.map(lambda l: l.split('\\t'))"
   ]
  },
  {
   "cell_type": "code",
   "execution_count": 4,
   "metadata": {},
   "outputs": [],
   "source": [
    "# Convert RDD into DataFrame\n",
    "from urllib.request import urlopen"
   ]
  },
  {
   "cell_type": "code",
   "execution_count": 5,
   "metadata": {},
   "outputs": [],
   "source": [
    "html = sc.textFile(\"http://gdeltproject.org/data/lookups/CSV.header.dailyupdates.txt\")"
   ]
  },
  {
   "cell_type": "code",
   "execution_count": 6,
   "metadata": {},
   "outputs": [],
   "source": [
    "columns = html.map(lambda l: l.split('\\t'))"
   ]
  },
  {
   "cell_type": "code",
   "execution_count": 7,
   "metadata": {},
   "outputs": [],
   "source": [
    "df = parts.toDF(schema=[\"GLOBALEVENTID\", \"SQLDATE\", 'MonthYear','Year','FractionDate','Actor1Code','Actor1Name','Actor1CountryCode',\n",
    "                'Actor1KnownGroupCode','Actor1EthnicCode',\n",
    "               'Actor1Religion1Code','Actor1Religion2Code','Actor1Type1Code','Actor1Type2Code','Actor1Type3Code','Actor2Code',\n",
    "                'Actor2Name','Actor2CountryCode',\n",
    "               'Actor2KnownGroupCode','Actor2EthnicCode','Actor2Religion1Code','Actor2Religion2Code','Actor2Type1Code',\n",
    "                'Actor2Type2Code','Actor2Type3Code','IsRootEvent','EventCode',\n",
    "               'EventBaseCode','EventRootCode','QuadClass','GoldsteinScale','NumMentions','NumSources','NumArticles',\n",
    "                'AvgTone','Actor1Geo_Type','Actor1Geo_FullName','Actor1Geo_CountryCode',\n",
    "               'Actor1Geo_ADM1Code','Actor1Geo_Lat','Actor1Geo_Long','Actor1Geo_FeatureID','Actor2Geo_Type','Actor2Geo_FullName',\n",
    "                'Actor2Geo_CountryCode','Actor2Geo_ADM1Code','Actor2Geo_Lat',\n",
    "               'Actor2Geo_Long','Actor2Geo_FeatureID','ActionGeo_Type','ActionGeo_FullName','ActionGeo_CountryCode',\n",
    "                'ActionGeo_ADM1Code','ActionGeo_Lat','ActionGeo_Long','ActionGeo_FeatureID','DATEADDED','SOURCEURL'])"
   ]
  },
  {
   "cell_type": "code",
   "execution_count": 8,
   "metadata": {},
   "outputs": [
    {
     "data": {
      "text/plain": [
       "[Row(GLOBALEVENTID='498554164', SQLDATE='20060103', MonthYear='200601', Year='2006', FractionDate='2006.0082', Actor1Code='BUS', Actor1Name='CORPORATION', Actor1CountryCode='', Actor1KnownGroupCode='', Actor1EthnicCode='', Actor1Religion1Code='', Actor1Religion2Code='', Actor1Type1Code='BUS', Actor1Type2Code='', Actor1Type3Code='', Actor2Code='', Actor2Name='', Actor2CountryCode='', Actor2KnownGroupCode='', Actor2EthnicCode='', Actor2Religion1Code='', Actor2Religion2Code='', Actor2Type1Code='', Actor2Type2Code='', Actor2Type3Code='', IsRootEvent='1', EventCode='051', EventBaseCode='051', EventRootCode='05', QuadClass='1', GoldsteinScale='3.4', NumMentions='6', NumSources='2', NumArticles='6', AvgTone='1.72415843232381', Actor1Geo_Type='4', Actor1Geo_FullName='American Creek, British Columbia, Canada', Actor1Geo_CountryCode='CA', Actor1Geo_ADM1Code='CA02', Actor1Geo_Lat='49.05', Actor1Geo_Long='-116', Actor1Geo_FeatureID='-560119', Actor2Geo_Type='0', Actor2Geo_FullName='', Actor2Geo_CountryCode='', Actor2Geo_ADM1Code='', Actor2Geo_Lat='', Actor2Geo_Long='', Actor2Geo_FeatureID='', ActionGeo_Type='4', ActionGeo_FullName='American Creek, British Columbia, Canada', ActionGeo_CountryCode='CA', ActionGeo_ADM1Code='CA02', ActionGeo_Lat='49.05', ActionGeo_Long='-116', ActionGeo_FeatureID='-560119', DATEADDED='20160101', SOURCEURL='http://www.digitaljournal.com/pr/2789583')]"
      ]
     },
     "execution_count": 8,
     "metadata": {},
     "output_type": "execute_result"
    }
   ],
   "source": [
    "df.take(1)"
   ]
  },
  {
   "cell_type": "code",
   "execution_count": 76,
   "metadata": {},
   "outputs": [
    {
     "data": {
      "text/plain": [
       "73385698"
      ]
     },
     "execution_count": 76,
     "metadata": {},
     "output_type": "execute_result"
    }
   ],
   "source": [
    "#### no need to run for re-running my code\n",
    "df.count()"
   ]
  },
  {
   "cell_type": "code",
   "execution_count": 78,
   "metadata": {},
   "outputs": [
    {
     "name": "stdout",
     "output_type": "stream",
     "text": [
      "root\n",
      " |-- GLOBALEVENTID: string (nullable = true)\n",
      " |-- SQLDATE: string (nullable = true)\n",
      " |-- MonthYear: string (nullable = true)\n",
      " |-- Year: string (nullable = true)\n",
      " |-- FractionDate: string (nullable = true)\n",
      " |-- Actor1Code: string (nullable = true)\n",
      " |-- Actor1Name: string (nullable = true)\n",
      " |-- Actor1CountryCode: string (nullable = true)\n",
      " |-- Actor1KnownGroupCode: string (nullable = true)\n",
      " |-- Actor1EthnicCode: string (nullable = true)\n",
      " |-- Actor1Religion1Code: string (nullable = true)\n",
      " |-- Actor1Religion2Code: string (nullable = true)\n",
      " |-- Actor1Type1Code: string (nullable = true)\n",
      " |-- Actor1Type2Code: string (nullable = true)\n",
      " |-- Actor1Type3Code: string (nullable = true)\n",
      " |-- Actor2Code: string (nullable = true)\n",
      " |-- Actor2Name: string (nullable = true)\n",
      " |-- Actor2CountryCode: string (nullable = true)\n",
      " |-- Actor2KnownGroupCode: string (nullable = true)\n",
      " |-- Actor2EthnicCode: string (nullable = true)\n",
      " |-- Actor2Religion1Code: string (nullable = true)\n",
      " |-- Actor2Religion2Code: string (nullable = true)\n",
      " |-- Actor2Type1Code: string (nullable = true)\n",
      " |-- Actor2Type2Code: string (nullable = true)\n",
      " |-- Actor2Type3Code: string (nullable = true)\n",
      " |-- IsRootEvent: string (nullable = true)\n",
      " |-- EventCode: string (nullable = true)\n",
      " |-- EventBaseCode: string (nullable = true)\n",
      " |-- EventRootCode: string (nullable = true)\n",
      " |-- QuadClass: string (nullable = true)\n",
      " |-- GoldsteinScale: string (nullable = true)\n",
      " |-- NumMentions: string (nullable = true)\n",
      " |-- NumSources: string (nullable = true)\n",
      " |-- NumArticles: string (nullable = true)\n",
      " |-- AvgTone: string (nullable = true)\n",
      " |-- Actor1Geo_Type: string (nullable = true)\n",
      " |-- Actor1Geo_FullName: string (nullable = true)\n",
      " |-- Actor1Geo_CountryCode: string (nullable = true)\n",
      " |-- Actor1Geo_ADM1Code: string (nullable = true)\n",
      " |-- Actor1Geo_Lat: string (nullable = true)\n",
      " |-- Actor1Geo_Long: string (nullable = true)\n",
      " |-- Actor1Geo_FeatureID: string (nullable = true)\n",
      " |-- Actor2Geo_Type: string (nullable = true)\n",
      " |-- Actor2Geo_FullName: string (nullable = true)\n",
      " |-- Actor2Geo_CountryCode: string (nullable = true)\n",
      " |-- Actor2Geo_ADM1Code: string (nullable = true)\n",
      " |-- Actor2Geo_Lat: string (nullable = true)\n",
      " |-- Actor2Geo_Long: string (nullable = true)\n",
      " |-- Actor2Geo_FeatureID: string (nullable = true)\n",
      " |-- ActionGeo_Type: string (nullable = true)\n",
      " |-- ActionGeo_FullName: string (nullable = true)\n",
      " |-- ActionGeo_CountryCode: string (nullable = true)\n",
      " |-- ActionGeo_ADM1Code: string (nullable = true)\n",
      " |-- ActionGeo_Lat: string (nullable = true)\n",
      " |-- ActionGeo_Long: string (nullable = true)\n",
      " |-- ActionGeo_FeatureID: string (nullable = true)\n",
      " |-- DATEADDED: string (nullable = true)\n",
      " |-- SOURCEURL: string (nullable = true)\n",
      "\n"
     ]
    }
   ],
   "source": [
    "#### no need to run for re-running my code\n",
    "df.printSchema()"
   ]
  },
  {
   "cell_type": "code",
   "execution_count": 9,
   "metadata": {},
   "outputs": [],
   "source": [
    "# register a dataframe before running the sql\n",
    "df.createOrReplaceTempView(\"df\")"
   ]
  },
  {
   "cell_type": "code",
   "execution_count": 84,
   "metadata": {},
   "outputs": [
    {
     "data": {
      "text/plain": [
       "[Row(GLOBALEVENTID='498554164', SQLDATE='20060103', MonthYear='200601', Year='2006', FractionDate='2006.0082', Actor1Code='BUS', Actor1Name='CORPORATION', Actor1CountryCode='', Actor1KnownGroupCode='', Actor1EthnicCode='', Actor1Religion1Code='', Actor1Religion2Code='', Actor1Type1Code='BUS', Actor1Type2Code='', Actor1Type3Code='', Actor2Code='', Actor2Name='', Actor2CountryCode='', Actor2KnownGroupCode='', Actor2EthnicCode='', Actor2Religion1Code='', Actor2Religion2Code='', Actor2Type1Code='', Actor2Type2Code='', Actor2Type3Code='', IsRootEvent='1', EventCode='051', EventBaseCode='051', EventRootCode='05', QuadClass='1', GoldsteinScale='3.4', NumMentions='6', NumSources='2', NumArticles='6', AvgTone='1.72415843232381', Actor1Geo_Type='4', Actor1Geo_FullName='American Creek, British Columbia, Canada', Actor1Geo_CountryCode='CA', Actor1Geo_ADM1Code='CA02', Actor1Geo_Lat='49.05', Actor1Geo_Long='-116', Actor1Geo_FeatureID='-560119', Actor2Geo_Type='0', Actor2Geo_FullName='', Actor2Geo_CountryCode='', Actor2Geo_ADM1Code='', Actor2Geo_Lat='', Actor2Geo_Long='', Actor2Geo_FeatureID='', ActionGeo_Type='4', ActionGeo_FullName='American Creek, British Columbia, Canada', ActionGeo_CountryCode='CA', ActionGeo_ADM1Code='CA02', ActionGeo_Lat='49.05', ActionGeo_Long='-116', ActionGeo_FeatureID='-560119', DATEADDED='20160101', SOURCEURL='http://www.digitaljournal.com/pr/2789583'),\n",
       " Row(GLOBALEVENTID='498554165', SQLDATE='20060103', MonthYear='200601', Year='2006', FractionDate='2006.0082', Actor1Code='BUS', Actor1Name='CORPORATION', Actor1CountryCode='', Actor1KnownGroupCode='', Actor1EthnicCode='', Actor1Religion1Code='', Actor1Religion2Code='', Actor1Type1Code='BUS', Actor1Type2Code='', Actor1Type3Code='', Actor2Code='', Actor2Name='', Actor2CountryCode='', Actor2KnownGroupCode='', Actor2EthnicCode='', Actor2Religion1Code='', Actor2Religion2Code='', Actor2Type1Code='', Actor2Type2Code='', Actor2Type3Code='', IsRootEvent='1', EventCode='051', EventBaseCode='051', EventRootCode='05', QuadClass='1', GoldsteinScale='3.4', NumMentions='6', NumSources='2', NumArticles='6', AvgTone='1.72415843232381', Actor1Geo_Type='5', Actor1Geo_FullName='Province Of British Columbia, British Columbia, Canada', Actor1Geo_CountryCode='CA', Actor1Geo_ADM1Code='CA02', Actor1Geo_Lat='55', Actor1Geo_Long='-125', Actor1Geo_FeatureID='-561661', Actor2Geo_Type='0', Actor2Geo_FullName='', Actor2Geo_CountryCode='', Actor2Geo_ADM1Code='', Actor2Geo_Lat='', Actor2Geo_Long='', Actor2Geo_FeatureID='', ActionGeo_Type='5', ActionGeo_FullName='Province Of British Columbia, British Columbia, Canada', ActionGeo_CountryCode='CA', ActionGeo_ADM1Code='CA02', ActionGeo_Lat='55', ActionGeo_Long='-125', ActionGeo_FeatureID='-561661', DATEADDED='20160101', SOURCEURL='http://www.digitaljournal.com/pr/2789583'),\n",
       " Row(GLOBALEVENTID='498554166', SQLDATE='20060103', MonthYear='200601', Year='2006', FractionDate='2006.0082', Actor1Code='BUS', Actor1Name='CORPORATION', Actor1CountryCode='', Actor1KnownGroupCode='', Actor1EthnicCode='', Actor1Religion1Code='', Actor1Religion2Code='', Actor1Type1Code='BUS', Actor1Type2Code='', Actor1Type3Code='', Actor2Code='', Actor2Name='', Actor2CountryCode='', Actor2KnownGroupCode='', Actor2EthnicCode='', Actor2Religion1Code='', Actor2Religion2Code='', Actor2Type1Code='', Actor2Type2Code='', Actor2Type3Code='', IsRootEvent='1', EventCode='070', EventBaseCode='070', EventRootCode='07', QuadClass='2', GoldsteinScale='7.0', NumMentions='12', NumSources='2', NumArticles='12', AvgTone='1.72415843232381', Actor1Geo_Type='4', Actor1Geo_FullName='American Creek, British Columbia, Canada', Actor1Geo_CountryCode='CA', Actor1Geo_ADM1Code='CA02', Actor1Geo_Lat='49.05', Actor1Geo_Long='-116', Actor1Geo_FeatureID='-560119', Actor2Geo_Type='0', Actor2Geo_FullName='', Actor2Geo_CountryCode='', Actor2Geo_ADM1Code='', Actor2Geo_Lat='', Actor2Geo_Long='', Actor2Geo_FeatureID='', ActionGeo_Type='4', ActionGeo_FullName='American Creek, British Columbia, Canada', ActionGeo_CountryCode='CA', ActionGeo_ADM1Code='CA02', ActionGeo_Lat='49.05', ActionGeo_Long='-116', ActionGeo_FeatureID='-560119', DATEADDED='20160101', SOURCEURL='http://www.digitaljournal.com/pr/2789583'),\n",
       " Row(GLOBALEVENTID='498554167', SQLDATE='20060103', MonthYear='200601', Year='2006', FractionDate='2006.0082', Actor1Code='BUS', Actor1Name='CORPORATION', Actor1CountryCode='', Actor1KnownGroupCode='', Actor1EthnicCode='', Actor1Religion1Code='', Actor1Religion2Code='', Actor1Type1Code='BUS', Actor1Type2Code='', Actor1Type3Code='', Actor2Code='CAN', Actor2Name='CANADA', Actor2CountryCode='CAN', Actor2KnownGroupCode='', Actor2EthnicCode='', Actor2Religion1Code='', Actor2Religion2Code='', Actor2Type1Code='', Actor2Type2Code='', Actor2Type3Code='', IsRootEvent='1', EventCode='051', EventBaseCode='051', EventRootCode='05', QuadClass='1', GoldsteinScale='3.4', NumMentions='6', NumSources='2', NumArticles='6', AvgTone='1.72415843232381', Actor1Geo_Type='4', Actor1Geo_FullName='American Creek, British Columbia, Canada', Actor1Geo_CountryCode='CA', Actor1Geo_ADM1Code='CA02', Actor1Geo_Lat='49.05', Actor1Geo_Long='-116', Actor1Geo_FeatureID='-560119', Actor2Geo_Type='4', Actor2Geo_FullName='American Creek, British Columbia, Canada', Actor2Geo_CountryCode='CA', Actor2Geo_ADM1Code='CA02', Actor2Geo_Lat='49.05', Actor2Geo_Long='-116', Actor2Geo_FeatureID='-560119', ActionGeo_Type='4', ActionGeo_FullName='American Creek, British Columbia, Canada', ActionGeo_CountryCode='CA', ActionGeo_ADM1Code='CA02', ActionGeo_Lat='49.05', ActionGeo_Long='-116', ActionGeo_FeatureID='-560119', DATEADDED='20160101', SOURCEURL='http://www.digitaljournal.com/pr/2789583'),\n",
       " Row(GLOBALEVENTID='498554168', SQLDATE='20060103', MonthYear='200601', Year='2006', FractionDate='2006.0082', Actor1Code='BUS', Actor1Name='CORPORATION', Actor1CountryCode='', Actor1KnownGroupCode='', Actor1EthnicCode='', Actor1Religion1Code='', Actor1Religion2Code='', Actor1Type1Code='BUS', Actor1Type2Code='', Actor1Type3Code='', Actor2Code='CAN', Actor2Name='CANADA', Actor2CountryCode='CAN', Actor2KnownGroupCode='', Actor2EthnicCode='', Actor2Religion1Code='', Actor2Religion2Code='', Actor2Type1Code='', Actor2Type2Code='', Actor2Type3Code='', IsRootEvent='1', EventCode='051', EventBaseCode='051', EventRootCode='05', QuadClass='1', GoldsteinScale='3.4', NumMentions='2', NumSources='2', NumArticles='2', AvgTone='1.72415843232381', Actor1Geo_Type='5', Actor1Geo_FullName='Province Of British Columbia, British Columbia, Canada', Actor1Geo_CountryCode='CA', Actor1Geo_ADM1Code='CA02', Actor1Geo_Lat='55', Actor1Geo_Long='-125', Actor1Geo_FeatureID='-561661', Actor2Geo_Type='5', Actor2Geo_FullName='Province Of British Columbia, British Columbia, Canada', Actor2Geo_CountryCode='CA', Actor2Geo_ADM1Code='CA02', Actor2Geo_Lat='55', Actor2Geo_Long='-125', Actor2Geo_FeatureID='-561661', ActionGeo_Type='5', ActionGeo_FullName='Province Of British Columbia, British Columbia, Canada', ActionGeo_CountryCode='CA', ActionGeo_ADM1Code='CA02', ActionGeo_Lat='55', ActionGeo_Long='-125', ActionGeo_FeatureID='-561661', DATEADDED='20160101', SOURCEURL='http://www.digitaljournal.com/pr/2789583')]"
      ]
     },
     "execution_count": 84,
     "metadata": {},
     "output_type": "execute_result"
    }
   ],
   "source": [
    "#### no need to run for re-running my code\n",
    "df.take(5)"
   ]
  },
  {
   "cell_type": "markdown",
   "metadata": {},
   "source": [
    "## Data Cleansing"
   ]
  },
  {
   "cell_type": "code",
   "execution_count": 10,
   "metadata": {},
   "outputs": [],
   "source": [
    "# GoldsteinScale, AvgTone, Actor1Geo_Lat, Actor1Geo_Long should be decimals\n",
    "df1 = df.withColumn(\"GoldsteinScale\",df[\"GoldsteinScale\"].cast('float'))\n",
    "df1 = df1.withColumn(\"AvgTone\",df[\"AvgTone\"].cast('float'))  \n",
    "df1 = df1.withColumn(\"Actor1Geo_Lat\",df[\"Actor1Geo_Lat\"].cast('float'))  \n",
    "df1 = df1.withColumn(\"Actor1Geo_Long\",df[\"Actor1Geo_Long\"].cast('float'))"
   ]
  },
  {
   "cell_type": "code",
   "execution_count": 11,
   "metadata": {},
   "outputs": [],
   "source": [
    "from pyspark.sql.types import IntegerType\n",
    "\n",
    "# NumMentions, NumSources, NumArticles should be integer\n",
    "df1 = df1.withColumn(\"NumMentions\", df[\"NumMentions\"].cast(IntegerType()))\n",
    "df1 = df1.withColumn(\"NumSources\", df[\"NumSources\"].cast(IntegerType()))\n",
    "df1 = df1.withColumn(\"NumArticles\", df[\"NumArticles\"].cast(IntegerType()))"
   ]
  },
  {
   "cell_type": "code",
   "execution_count": 16,
   "metadata": {},
   "outputs": [],
   "source": [
    "# convert SQLDATE to DateType() if they are StringType()\n",
    "from pyspark.sql.functions import to_date\n",
    "df1 = df1.withColumn('SQLDATE', to_date('SQLDATE'))"
   ]
  },
  {
   "cell_type": "code",
   "execution_count": 17,
   "metadata": {},
   "outputs": [],
   "source": [
    "# no need to remove missing values for analysis because the event happend anyways and maybe there is only 1 actor\n",
    "# by may consider remove missing values for models building. To remove:\n",
    "# df.na.drop()"
   ]
  },
  {
   "cell_type": "code",
   "execution_count": 18,
   "metadata": {},
   "outputs": [
    {
     "name": "stdout",
     "output_type": "stream",
     "text": [
      "root\n",
      " |-- GLOBALEVENTID: string (nullable = true)\n",
      " |-- SQLDATE: date (nullable = true)\n",
      " |-- MonthYear: string (nullable = true)\n",
      " |-- Year: string (nullable = true)\n",
      " |-- FractionDate: string (nullable = true)\n",
      " |-- Actor1Code: string (nullable = true)\n",
      " |-- Actor1Name: string (nullable = true)\n",
      " |-- Actor1CountryCode: string (nullable = true)\n",
      " |-- Actor1KnownGroupCode: string (nullable = true)\n",
      " |-- Actor1EthnicCode: string (nullable = true)\n",
      " |-- Actor1Religion1Code: string (nullable = true)\n",
      " |-- Actor1Religion2Code: string (nullable = true)\n",
      " |-- Actor1Type1Code: string (nullable = true)\n",
      " |-- Actor1Type2Code: string (nullable = true)\n",
      " |-- Actor1Type3Code: string (nullable = true)\n",
      " |-- Actor2Code: string (nullable = true)\n",
      " |-- Actor2Name: string (nullable = true)\n",
      " |-- Actor2CountryCode: string (nullable = true)\n",
      " |-- Actor2KnownGroupCode: string (nullable = true)\n",
      " |-- Actor2EthnicCode: string (nullable = true)\n",
      " |-- Actor2Religion1Code: string (nullable = true)\n",
      " |-- Actor2Religion2Code: string (nullable = true)\n",
      " |-- Actor2Type1Code: string (nullable = true)\n",
      " |-- Actor2Type2Code: string (nullable = true)\n",
      " |-- Actor2Type3Code: string (nullable = true)\n",
      " |-- IsRootEvent: string (nullable = true)\n",
      " |-- EventCode: string (nullable = true)\n",
      " |-- EventBaseCode: string (nullable = true)\n",
      " |-- EventRootCode: string (nullable = true)\n",
      " |-- QuadClass: string (nullable = true)\n",
      " |-- GoldsteinScale: float (nullable = true)\n",
      " |-- NumMentions: integer (nullable = true)\n",
      " |-- NumSources: integer (nullable = true)\n",
      " |-- NumArticles: integer (nullable = true)\n",
      " |-- AvgTone: float (nullable = true)\n",
      " |-- Actor1Geo_Type: string (nullable = true)\n",
      " |-- Actor1Geo_FullName: string (nullable = true)\n",
      " |-- Actor1Geo_CountryCode: string (nullable = true)\n",
      " |-- Actor1Geo_ADM1Code: string (nullable = true)\n",
      " |-- Actor1Geo_Lat: float (nullable = true)\n",
      " |-- Actor1Geo_Long: float (nullable = true)\n",
      " |-- Actor1Geo_FeatureID: string (nullable = true)\n",
      " |-- Actor2Geo_Type: string (nullable = true)\n",
      " |-- Actor2Geo_FullName: string (nullable = true)\n",
      " |-- Actor2Geo_CountryCode: string (nullable = true)\n",
      " |-- Actor2Geo_ADM1Code: string (nullable = true)\n",
      " |-- Actor2Geo_Lat: string (nullable = true)\n",
      " |-- Actor2Geo_Long: string (nullable = true)\n",
      " |-- Actor2Geo_FeatureID: string (nullable = true)\n",
      " |-- ActionGeo_Type: string (nullable = true)\n",
      " |-- ActionGeo_FullName: string (nullable = true)\n",
      " |-- ActionGeo_CountryCode: string (nullable = true)\n",
      " |-- ActionGeo_ADM1Code: string (nullable = true)\n",
      " |-- ActionGeo_Lat: string (nullable = true)\n",
      " |-- ActionGeo_Long: string (nullable = true)\n",
      " |-- ActionGeo_FeatureID: string (nullable = true)\n",
      " |-- DATEADDED: string (nullable = true)\n",
      " |-- SOURCEURL: string (nullable = true)\n",
      "\n"
     ]
    }
   ],
   "source": [
    "#### no need to run for re-running my code\n",
    "df1.printSchema()"
   ]
  },
  {
   "cell_type": "code",
   "execution_count": 90,
   "metadata": {},
   "outputs": [
    {
     "name": "stdout",
     "output_type": "stream",
     "text": [
      "+-------------+-------+---------+----+------------+----------+----------+-----------------+--------------------+----------------+-------------------+-------------------+---------------+---------------+---------------+----------+----------+-----------------+--------------------+----------------+-------------------+-------------------+---------------+---------------+---------------+-----------+---------+-------------+-------------+---------+--------------+-----------+----------+-----------+-------+--------------+------------------+---------------------+------------------+-------------+--------------+-------------------+--------------+------------------+---------------------+------------------+-------------+--------------+-------------------+--------------+------------------+---------------------+------------------+-------------+--------------+-------------------+---------+---------+\n",
      "|GLOBALEVENTID|SQLDATE|MonthYear|Year|FractionDate|Actor1Code|Actor1Name|Actor1CountryCode|Actor1KnownGroupCode|Actor1EthnicCode|Actor1Religion1Code|Actor1Religion2Code|Actor1Type1Code|Actor1Type2Code|Actor1Type3Code|Actor2Code|Actor2Name|Actor2CountryCode|Actor2KnownGroupCode|Actor2EthnicCode|Actor2Religion1Code|Actor2Religion2Code|Actor2Type1Code|Actor2Type2Code|Actor2Type3Code|IsRootEvent|EventCode|EventBaseCode|EventRootCode|QuadClass|GoldsteinScale|NumMentions|NumSources|NumArticles|AvgTone|Actor1Geo_Type|Actor1Geo_FullName|Actor1Geo_CountryCode|Actor1Geo_ADM1Code|Actor1Geo_Lat|Actor1Geo_Long|Actor1Geo_FeatureID|Actor2Geo_Type|Actor2Geo_FullName|Actor2Geo_CountryCode|Actor2Geo_ADM1Code|Actor2Geo_Lat|Actor2Geo_Long|Actor2Geo_FeatureID|ActionGeo_Type|ActionGeo_FullName|ActionGeo_CountryCode|ActionGeo_ADM1Code|ActionGeo_Lat|ActionGeo_Long|ActionGeo_FeatureID|DATEADDED|SOURCEURL|\n",
      "+-------------+-------+---------+----+------------+----------+----------+-----------------+--------------------+----------------+-------------------+-------------------+---------------+---------------+---------------+----------+----------+-----------------+--------------------+----------------+-------------------+-------------------+---------------+---------------+---------------+-----------+---------+-------------+-------------+---------+--------------+-----------+----------+-----------+-------+--------------+------------------+---------------------+------------------+-------------+--------------+-------------------+--------------+------------------+---------------------+------------------+-------------+--------------+-------------------+--------------+------------------+---------------------+------------------+-------------+--------------+-------------------+---------+---------+\n",
      "|            0|      0|        0|   0|           0|         0|         0|                0|                   0|               0|                  0|                  0|              0|              0|              0|         0|         0|                0|                   0|               0|                  0|                  0|              0|              0|              0|          0|        0|            0|            0|        0|             0|          0|         0|          0|      0|             0|                 0|                    0|                 0|            0|             0|                  0|             0|                 0|                    0|                 0|            0|             0|                  0|             0|                 0|                    0|                 0|            0|             0|                  0|        0|        0|\n",
      "+-------------+-------+---------+----+------------+----------+----------+-----------------+--------------------+----------------+-------------------+-------------------+---------------+---------------+---------------+----------+----------+-----------------+--------------------+----------------+-------------------+-------------------+---------------+---------------+---------------+-----------+---------+-------------+-------------+---------+--------------+-----------+----------+-----------+-------+--------------+------------------+---------------------+------------------+-------------+--------------+-------------------+--------------+------------------+---------------------+------------------+-------------+--------------+-------------------+--------------+------------------+---------------------+------------------+-------------+--------------+-------------------+---------+---------+\n",
      "\n"
     ]
    }
   ],
   "source": [
    "#### no need to run for re-running my code\n",
    "# check for missing values in each column\n",
    "from pyspark.sql.functions import isnan, when, count, col\n",
    "\n",
    "df1.select([count(when(isnan(c), c)).alias(c) for c in df1.columns]).show()"
   ]
  },
  {
   "cell_type": "code",
   "execution_count": 103,
   "metadata": {},
   "outputs": [
    {
     "name": "stdout",
     "output_type": "stream",
     "text": [
      "+-------+-------------------+------------------+-------------------+-------------------+----------+--------------------+-----------------+--------------------+----------------+-------------------+-------------------+---------------+---------------+---------------+----------+--------------------+-----------------+--------------------+----------------+-------------------+-------------------+---------------+---------------+---------------+------------------+------------------+-----------------+-----------------+------------------+-----------------+-----------------+------------------+------------------+--------------------+------------------+--------------------+---------------------+------------------+------------------+-------------------+-------------------+------------------+--------------------+---------------------+------------------+------------------+--------------------+-------------------+------------------+--------------------+---------------------+------------------+------------------+-------------------+-------------------+--------------------+--------------------+\n",
      "|summary|      GLOBALEVENTID|         MonthYear|               Year|       FractionDate|Actor1Code|          Actor1Name|Actor1CountryCode|Actor1KnownGroupCode|Actor1EthnicCode|Actor1Religion1Code|Actor1Religion2Code|Actor1Type1Code|Actor1Type2Code|Actor1Type3Code|Actor2Code|          Actor2Name|Actor2CountryCode|Actor2KnownGroupCode|Actor2EthnicCode|Actor2Religion1Code|Actor2Religion2Code|Actor2Type1Code|Actor2Type2Code|Actor2Type3Code|       IsRootEvent|         EventCode|    EventBaseCode|    EventRootCode|         QuadClass|   GoldsteinScale|      NumMentions|        NumSources|       NumArticles|             AvgTone|    Actor1Geo_Type|  Actor1Geo_FullName|Actor1Geo_CountryCode|Actor1Geo_ADM1Code|     Actor1Geo_Lat|     Actor1Geo_Long|Actor1Geo_FeatureID|    Actor2Geo_Type|  Actor2Geo_FullName|Actor2Geo_CountryCode|Actor2Geo_ADM1Code|     Actor2Geo_Lat|      Actor2Geo_Long|Actor2Geo_FeatureID|    ActionGeo_Type|  ActionGeo_FullName|ActionGeo_CountryCode|ActionGeo_ADM1Code|     ActionGeo_Lat|     ActionGeo_Long|ActionGeo_FeatureID|           DATEADDED|           SOURCEURL|\n",
      "+-------+-------------------+------------------+-------------------+-------------------+----------+--------------------+-----------------+--------------------+----------------+-------------------+-------------------+---------------+---------------+---------------+----------+--------------------+-----------------+--------------------+----------------+-------------------+-------------------+---------------+---------------+---------------+------------------+------------------+-----------------+-----------------+------------------+-----------------+-----------------+------------------+------------------+--------------------+------------------+--------------------+---------------------+------------------+------------------+-------------------+-------------------+------------------+--------------------+---------------------+------------------+------------------+--------------------+-------------------+------------------+--------------------+---------------------+------------------+------------------+-------------------+-------------------+--------------------+--------------------+\n",
      "|  count|           73385698|          73385698|           73385698|           73385698|  73385698|            73385698|         73385698|            73385698|        73385698|           73385698|           73385698|       73385698|       73385698|       73385698|  73385698|            73385698|         73385698|            73385698|        73385698|           73385698|           73385698|       73385698|       73385698|       73385698|          73385698|          73385698|         73385698|         73385698|          73385698|         73385254|         73385698|          73385698|          73385698|            73385698|          73385698|            73385698|             73385698|          73385698|          73385698|           73385698|           73385698|          73385698|            73385698|             73385698|          73385698|          73385698|            73385698|           73385698|          73385698|            73385698|             73385698|          73385698|          73385698|           73385698|           73385698|            73385698|            73385698|\n",
      "|   mean|5.551988495999925E8|201605.23831646325| 2015.9877449145472|  2016.479918987191|      null|                null|             null|                null|            null|               null|               null|           null|           null|           null|      null|                null|             null|                null|            null|               null|               null|           null|           null|           null|0.6409106989757051|101.16614533373206|70.58185840967232|6.869011110979993|1.8152546017890299|0.465973375111539|14.82097852363549|2.6207269432798745|14.450492397033548|  -2.092359470054669|2.5109915286218305|                null|                 null|              null|30.732540141547126|-3.1607654197924235|-520364.30300716864|2.0154700443129943|                null|                 null|              null|30.850240234995795|-0.49977958501353215|  -562379.992463417| 2.776424474425521|                null|                 null|              null|30.632717885885995|-3.9521566947380404|-500435.96009875316|2.0160662238777164E7|                null|\n",
      "| stddev|3.317247150045887E7|17.114776904114237|0.16766510401412912|0.32810963668342474|      null|                null|             null|                null|            null|               null|               null|           null|           null|           null|      null|                null|             null|                null|            null|               null|               null|           null|           null|           null|0.4797334447901964|198.79064302940563|55.84443156202021|5.596966870968958|1.1368379593435523|4.737421436815645|82.19011254129346|10.200010778695358| 78.15061089101215|  3.7761406682756156|1.4953392740877915|                null|                 null|              null|20.488932437274492|  78.75849107080082|   2733440.65649848|1.6744219399024078|                null|                 null|              null|20.232032538508225|   77.81046365712726| 2767174.0319050252|1.3207502576241117|                null|                 null|              null|20.552344850198672|  79.12043651517286|   2726440.94315318|   342.0250451584248|                null|\n",
      "|    min|          498554164|            200601|               2006|          2006.0082|          |                    |                 |                    |                |                   |                   |               |               |               |          |                    |                 |                    |                |                   |                   |               |               |               |                 0|               ---|              ---|               --|                 1|            -10.0|                1|                 1|                 1|-0.00010156355927...|                 0|                    |                     |                  |                  |                   |                   |                 0|                    |                     |                  |                  |                    |                   |                 0|                    |                     |                  |                  |                   |                   |            20160101|) RIA Novosti (MI...|\n",
      "|    max|          613247968|            201612|               2016|          2016.9890|    zzaOPP|ZYGIMANTAS PAVILI...|              ZWE|                 XFM|             zza|                ZRO|                UDX|            UIS|            UIS|            UAF|    zzaJUD|ZYGIMANTAS PAVILI...|              ZWE|                 XFM|             zza|                ZRO|                UDX|            UIS|            UAF|            UAF|                 1|               203|              203|               20|                 4|             10.0|            51231|              1982|             36243|    9.99999999999999|                 5|Zzyzx, California...|                   ZI|              ZI10|            9.9975|            99.9998|                 ZI|                 5|Zzyzx, California...|                   ZI|              ZI10|             9.996|             99.9998|                 ZI|                 5|Zzyzx, California...|                   ZI|              ZI10|            9.9975|            99.9998|                 ZI|            20161231|website of ProTV ...|\n",
      "+-------+-------------------+------------------+-------------------+-------------------+----------+--------------------+-----------------+--------------------+----------------+-------------------+-------------------+---------------+---------------+---------------+----------+--------------------+-----------------+--------------------+----------------+-------------------+-------------------+---------------+---------------+---------------+------------------+------------------+-----------------+-----------------+------------------+-----------------+-----------------+------------------+------------------+--------------------+------------------+--------------------+---------------------+------------------+------------------+-------------------+-------------------+------------------+--------------------+---------------------+------------------+------------------+--------------------+-------------------+------------------+--------------------+---------------------+------------------+------------------+-------------------+-------------------+--------------------+--------------------+\n",
      "\n"
     ]
    }
   ],
   "source": [
    "#### no need to run for re-running my code\n",
    "df1.describe().show()"
   ]
  },
  {
   "cell_type": "markdown",
   "metadata": {},
   "source": [
    "## Some SQL Anlaysis"
   ]
  },
  {
   "cell_type": "code",
   "execution_count": 89,
   "metadata": {},
   "outputs": [
    {
     "name": "stdout",
     "output_type": "stream",
     "text": [
      "+---------+--------+\n",
      "|QuadClass|   count|\n",
      "+---------+--------+\n",
      "|        1|44668851|\n",
      "|        4|10784200|\n",
      "|        3| 9542781|\n",
      "|        2| 8389866|\n",
      "+---------+--------+\n",
      "\n"
     ]
    }
   ],
   "source": [
    "#### no need to run for re-running my code\n",
    "# EventCode is the raw CAMEO action code describing the action that Actor1 performed upon Actor2\n",
    "spark.sql(\"\"\"SELECT QuadClass, count(*) as count from df1 \n",
    "            group by QuadClass order by count desc limit 10\"\"\").show()"
   ]
  },
  {
   "cell_type": "code",
   "execution_count": 96,
   "metadata": {},
   "outputs": [
    {
     "name": "stdout",
     "output_type": "stream",
     "text": [
      "+----------------+--------------------+\n",
      "|             max|                 min|\n",
      "+----------------+--------------------+\n",
      "|9.99999999999999|-0.00010156355927...|\n",
      "+----------------+--------------------+\n",
      "\n"
     ]
    }
   ],
   "source": [
    "#### no need to run for re-running my code\n",
    "spark.sql(\"\"\"SELECT max(AvgTone) as AvgToneMax, min(AvgTone) as AvgToneMin from df1\"\"\").show()"
   ]
  },
  {
   "cell_type": "code",
   "execution_count": 19,
   "metadata": {},
   "outputs": [],
   "source": [
    "#### no need to run for re-running my code\n",
    "df1.write.parquet(\"s3://finalproject502/df.parquet\")"
   ]
  },
  {
   "cell_type": "code",
   "execution_count": 20,
   "metadata": {},
   "outputs": [],
   "source": [
    "sc.stop()\n",
    "spark.stop()"
   ]
  }
 ],
 "metadata": {
  "kernelspec": {
   "display_name": "Python 3",
   "language": "python",
   "name": "python3"
  },
  "language_info": {
   "codemirror_mode": {
    "name": "ipython",
    "version": 3
   },
   "file_extension": ".py",
   "mimetype": "text/x-python",
   "name": "python",
   "nbconvert_exporter": "python",
   "pygments_lexer": "ipython3",
   "version": "3.7.6"
  }
 },
 "nbformat": 4,
 "nbformat_minor": 4
}

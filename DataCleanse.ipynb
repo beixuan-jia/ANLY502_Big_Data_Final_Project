{
 "cells": [
  {
   "cell_type": "code",
   "execution_count": 1,
   "metadata": {},
   "outputs": [
    {
     "data": {
      "text/html": [
       "\n",
       "        <div>\n",
       "            <p><b>SparkContext</b></p>\n",
       "\n",
       "            <p><a href=\"http://ip-172-31-12-42.ec2.internal:4040\">Spark UI</a></p>\n",
       "\n",
       "            <dl>\n",
       "              <dt>Version</dt>\n",
       "                <dd><code>v2.4.4</code></dd>\n",
       "              <dt>Master</dt>\n",
       "                <dd><code>yarn</code></dd>\n",
       "              <dt>AppName</dt>\n",
       "                <dd><code>News</code></dd>\n",
       "            </dl>\n",
       "        </div>\n",
       "        "
      ],
      "text/plain": [
       "<SparkContext master=yarn appName=News>"
      ]
     },
     "execution_count": 1,
     "metadata": {},
     "output_type": "execute_result"
    }
   ],
   "source": [
    "import findspark\n",
    "findspark.init()\n",
    "from pyspark import SparkContext, SparkConf\n",
    "from pyspark.sql import SparkSession\n",
    "spark = SparkSession.builder.appName(\"News\").getOrCreate()\n",
    "sc    = spark.sparkContext      # get the context\n",
    "spark\n",
    "sc"
   ]
  },
  {
   "cell_type": "code",
   "execution_count": 2,
   "metadata": {},
   "outputs": [],
   "source": [
    "# Example uses GDELT dataset found here: https://aws.amazon.com/public-datasets/gdelt/\n",
    "# Column headers found here: http://gdeltproject.org/data/lookups/CSV.header.dailyupdates.txt\n",
    "\n",
    "# Load RDD\n",
    "lines = sc.textFile(\"s3://gdelt-open-data/events/2016*\") # Loads 73,385,698 records from 2016"
   ]
  },
  {
   "cell_type": "code",
   "execution_count": 3,
   "metadata": {},
   "outputs": [],
   "source": [
    "# Split lines into columns; change split() argument depending on deliminiter e.g. '\\t'\n",
    "parts = lines.map(lambda l: l.split('\\t'))"
   ]
  },
  {
   "cell_type": "code",
   "execution_count": 5,
   "metadata": {},
   "outputs": [],
   "source": [
    "# Convert RDD into DataFrame\n",
    "from urllib.request import urlopen"
   ]
  },
  {
   "cell_type": "code",
   "execution_count": 48,
   "metadata": {},
   "outputs": [],
   "source": [
    "html = sc.textFile(\"http://gdeltproject.org/data/lookups/CSV.header.dailyupdates.txt\")"
   ]
  },
  {
   "cell_type": "code",
   "execution_count": 50,
   "metadata": {},
   "outputs": [],
   "source": [
    "columns = html.map(lambda l: l.split('\\t'))"
   ]
  },
  {
   "cell_type": "code",
   "execution_count": 73,
   "metadata": {},
   "outputs": [],
   "source": [
    "df = parts.toDF(schema=[\"GLOBALEVENTID\", \"SQLDATE\", 'MonthYear','Year','FractionDate','Actor1Code','Actor1Name','Actor1CountryCode',\n",
    "                'Actor1KnownGroupCode','Actor1EthnicCode',\n",
    "               'Actor1Religion1Code','Actor1Religion2Code','Actor1Type1Code','Actor1Type2Code','Actor1Type3Code','Actor2Code',\n",
    "                'Actor2Name','Actor2CountryCode',\n",
    "               'Actor2KnownGroupCode','Actor2EthnicCode','Actor2Religion1Code','Actor2Religion2Code','Actor2Type1Code',\n",
    "                'Actor2Type2Code','Actor2Type3Code','IsRootEvent','EventCode',\n",
    "               'EventBaseCode','EventRootCode','QuadClass','GoldsteinScale','NumMentions','NumSources','NumArticles',\n",
    "                'AvgTone','Actor1Geo_Type','Actor1Geo_FullName','Actor1Geo_CountryCode',\n",
    "               'Actor1Geo_ADM1Code','Actor1Geo_Lat','Actor1Geo_Long','Actor1Geo_FeatureID','Actor2Geo_Type','Actor2Geo_FullName',\n",
    "                'Actor2Geo_CountryCode','Actor2Geo_ADM1Code','Actor2Geo_Lat',\n",
    "               'Actor2Geo_Long','Actor2Geo_FeatureID','ActionGeo_Type','ActionGeo_FullName','ActionGeo_CountryCode',\n",
    "                'ActionGeo_ADM1Code','ActionGeo_Lat','ActionGeo_Long','ActionGeo_FeatureID','DATEADDED','SOURCEURL'])"
   ]
  },
  {
   "cell_type": "code",
   "execution_count": 75,
   "metadata": {},
   "outputs": [
    {
     "data": {
      "text/plain": [
       "[Row(GLOBALEVENTID='498554164', SQLDATE='20060103', MonthYear='200601', Year='2006', FractionDate='2006.0082', Actor1Code='BUS', Actor1Name='CORPORATION', Actor1CountryCode='', Actor1KnownGroupCode='', Actor1EthnicCode='', Actor1Religion1Code='', Actor1Religion2Code='', Actor1Type1Code='BUS', Actor1Type2Code='', Actor1Type3Code='', Actor2Code='', Actor2Name='', Actor2CountryCode='', Actor2KnownGroupCode='', Actor2EthnicCode='', Actor2Religion1Code='', Actor2Religion2Code='', Actor2Type1Code='', Actor2Type2Code='', Actor2Type3Code='', IsRootEvent='1', EventCode='051', EventBaseCode='051', EventRootCode='05', QuadClass='1', GoldsteinScale='3.4', NumMentions='6', NumSources='2', NumArticles='6', AvgTone='1.72415843232381', Actor1Geo_Type='4', Actor1Geo_FullName='American Creek, British Columbia, Canada', Actor1Geo_CountryCode='CA', Actor1Geo_ADM1Code='CA02', Actor1Geo_Lat='49.05', Actor1Geo_Long='-116', Actor1Geo_FeatureID='-560119', Actor2Geo_Type='0', Actor2Geo_FullName='', Actor2Geo_CountryCode='', Actor2Geo_ADM1Code='', Actor2Geo_Lat='', Actor2Geo_Long='', Actor2Geo_FeatureID='', ActionGeo_Type='4', ActionGeo_FullName='American Creek, British Columbia, Canada', ActionGeo_CountryCode='CA', ActionGeo_ADM1Code='CA02', ActionGeo_Lat='49.05', ActionGeo_Long='-116', ActionGeo_FeatureID='-560119', DATEADDED='20160101', SOURCEURL='http://www.digitaljournal.com/pr/2789583')]"
      ]
     },
     "execution_count": 75,
     "metadata": {},
     "output_type": "execute_result"
    }
   ],
   "source": [
    "df.take(1)"
   ]
  },
  {
   "cell_type": "code",
   "execution_count": 76,
   "metadata": {},
   "outputs": [
    {
     "data": {
      "text/plain": [
       "73385698"
      ]
     },
     "execution_count": 76,
     "metadata": {},
     "output_type": "execute_result"
    }
   ],
   "source": [
    "df.count()"
   ]
  },
  {
   "cell_type": "code",
   "execution_count": 78,
   "metadata": {},
   "outputs": [
    {
     "name": "stdout",
     "output_type": "stream",
     "text": [
      "root\n",
      " |-- GLOBALEVENTID: string (nullable = true)\n",
      " |-- SQLDATE: string (nullable = true)\n",
      " |-- MonthYear: string (nullable = true)\n",
      " |-- Year: string (nullable = true)\n",
      " |-- FractionDate: string (nullable = true)\n",
      " |-- Actor1Code: string (nullable = true)\n",
      " |-- Actor1Name: string (nullable = true)\n",
      " |-- Actor1CountryCode: string (nullable = true)\n",
      " |-- Actor1KnownGroupCode: string (nullable = true)\n",
      " |-- Actor1EthnicCode: string (nullable = true)\n",
      " |-- Actor1Religion1Code: string (nullable = true)\n",
      " |-- Actor1Religion2Code: string (nullable = true)\n",
      " |-- Actor1Type1Code: string (nullable = true)\n",
      " |-- Actor1Type2Code: string (nullable = true)\n",
      " |-- Actor1Type3Code: string (nullable = true)\n",
      " |-- Actor2Code: string (nullable = true)\n",
      " |-- Actor2Name: string (nullable = true)\n",
      " |-- Actor2CountryCode: string (nullable = true)\n",
      " |-- Actor2KnownGroupCode: string (nullable = true)\n",
      " |-- Actor2EthnicCode: string (nullable = true)\n",
      " |-- Actor2Religion1Code: string (nullable = true)\n",
      " |-- Actor2Religion2Code: string (nullable = true)\n",
      " |-- Actor2Type1Code: string (nullable = true)\n",
      " |-- Actor2Type2Code: string (nullable = true)\n",
      " |-- Actor2Type3Code: string (nullable = true)\n",
      " |-- IsRootEvent: string (nullable = true)\n",
      " |-- EventCode: string (nullable = true)\n",
      " |-- EventBaseCode: string (nullable = true)\n",
      " |-- EventRootCode: string (nullable = true)\n",
      " |-- QuadClass: string (nullable = true)\n",
      " |-- GoldsteinScale: string (nullable = true)\n",
      " |-- NumMentions: string (nullable = true)\n",
      " |-- NumSources: string (nullable = true)\n",
      " |-- NumArticles: string (nullable = true)\n",
      " |-- AvgTone: string (nullable = true)\n",
      " |-- Actor1Geo_Type: string (nullable = true)\n",
      " |-- Actor1Geo_FullName: string (nullable = true)\n",
      " |-- Actor1Geo_CountryCode: string (nullable = true)\n",
      " |-- Actor1Geo_ADM1Code: string (nullable = true)\n",
      " |-- Actor1Geo_Lat: string (nullable = true)\n",
      " |-- Actor1Geo_Long: string (nullable = true)\n",
      " |-- Actor1Geo_FeatureID: string (nullable = true)\n",
      " |-- Actor2Geo_Type: string (nullable = true)\n",
      " |-- Actor2Geo_FullName: string (nullable = true)\n",
      " |-- Actor2Geo_CountryCode: string (nullable = true)\n",
      " |-- Actor2Geo_ADM1Code: string (nullable = true)\n",
      " |-- Actor2Geo_Lat: string (nullable = true)\n",
      " |-- Actor2Geo_Long: string (nullable = true)\n",
      " |-- Actor2Geo_FeatureID: string (nullable = true)\n",
      " |-- ActionGeo_Type: string (nullable = true)\n",
      " |-- ActionGeo_FullName: string (nullable = true)\n",
      " |-- ActionGeo_CountryCode: string (nullable = true)\n",
      " |-- ActionGeo_ADM1Code: string (nullable = true)\n",
      " |-- ActionGeo_Lat: string (nullable = true)\n",
      " |-- ActionGeo_Long: string (nullable = true)\n",
      " |-- ActionGeo_FeatureID: string (nullable = true)\n",
      " |-- DATEADDED: string (nullable = true)\n",
      " |-- SOURCEURL: string (nullable = true)\n",
      "\n"
     ]
    }
   ],
   "source": [
    "df.printSchema()"
   ]
  },
  {
   "cell_type": "code",
   "execution_count": 79,
   "metadata": {},
   "outputs": [],
   "source": [
    "# register a dataframe before running the sql\n",
    "df.createOrReplaceTempView(\"df\")"
   ]
  },
  {
   "cell_type": "code",
   "execution_count": 84,
   "metadata": {},
   "outputs": [
    {
     "data": {
      "text/plain": [
       "[Row(GLOBALEVENTID='498554164', SQLDATE='20060103', MonthYear='200601', Year='2006', FractionDate='2006.0082', Actor1Code='BUS', Actor1Name='CORPORATION', Actor1CountryCode='', Actor1KnownGroupCode='', Actor1EthnicCode='', Actor1Religion1Code='', Actor1Religion2Code='', Actor1Type1Code='BUS', Actor1Type2Code='', Actor1Type3Code='', Actor2Code='', Actor2Name='', Actor2CountryCode='', Actor2KnownGroupCode='', Actor2EthnicCode='', Actor2Religion1Code='', Actor2Religion2Code='', Actor2Type1Code='', Actor2Type2Code='', Actor2Type3Code='', IsRootEvent='1', EventCode='051', EventBaseCode='051', EventRootCode='05', QuadClass='1', GoldsteinScale='3.4', NumMentions='6', NumSources='2', NumArticles='6', AvgTone='1.72415843232381', Actor1Geo_Type='4', Actor1Geo_FullName='American Creek, British Columbia, Canada', Actor1Geo_CountryCode='CA', Actor1Geo_ADM1Code='CA02', Actor1Geo_Lat='49.05', Actor1Geo_Long='-116', Actor1Geo_FeatureID='-560119', Actor2Geo_Type='0', Actor2Geo_FullName='', Actor2Geo_CountryCode='', Actor2Geo_ADM1Code='', Actor2Geo_Lat='', Actor2Geo_Long='', Actor2Geo_FeatureID='', ActionGeo_Type='4', ActionGeo_FullName='American Creek, British Columbia, Canada', ActionGeo_CountryCode='CA', ActionGeo_ADM1Code='CA02', ActionGeo_Lat='49.05', ActionGeo_Long='-116', ActionGeo_FeatureID='-560119', DATEADDED='20160101', SOURCEURL='http://www.digitaljournal.com/pr/2789583'),\n",
       " Row(GLOBALEVENTID='498554165', SQLDATE='20060103', MonthYear='200601', Year='2006', FractionDate='2006.0082', Actor1Code='BUS', Actor1Name='CORPORATION', Actor1CountryCode='', Actor1KnownGroupCode='', Actor1EthnicCode='', Actor1Religion1Code='', Actor1Religion2Code='', Actor1Type1Code='BUS', Actor1Type2Code='', Actor1Type3Code='', Actor2Code='', Actor2Name='', Actor2CountryCode='', Actor2KnownGroupCode='', Actor2EthnicCode='', Actor2Religion1Code='', Actor2Religion2Code='', Actor2Type1Code='', Actor2Type2Code='', Actor2Type3Code='', IsRootEvent='1', EventCode='051', EventBaseCode='051', EventRootCode='05', QuadClass='1', GoldsteinScale='3.4', NumMentions='6', NumSources='2', NumArticles='6', AvgTone='1.72415843232381', Actor1Geo_Type='5', Actor1Geo_FullName='Province Of British Columbia, British Columbia, Canada', Actor1Geo_CountryCode='CA', Actor1Geo_ADM1Code='CA02', Actor1Geo_Lat='55', Actor1Geo_Long='-125', Actor1Geo_FeatureID='-561661', Actor2Geo_Type='0', Actor2Geo_FullName='', Actor2Geo_CountryCode='', Actor2Geo_ADM1Code='', Actor2Geo_Lat='', Actor2Geo_Long='', Actor2Geo_FeatureID='', ActionGeo_Type='5', ActionGeo_FullName='Province Of British Columbia, British Columbia, Canada', ActionGeo_CountryCode='CA', ActionGeo_ADM1Code='CA02', ActionGeo_Lat='55', ActionGeo_Long='-125', ActionGeo_FeatureID='-561661', DATEADDED='20160101', SOURCEURL='http://www.digitaljournal.com/pr/2789583'),\n",
       " Row(GLOBALEVENTID='498554166', SQLDATE='20060103', MonthYear='200601', Year='2006', FractionDate='2006.0082', Actor1Code='BUS', Actor1Name='CORPORATION', Actor1CountryCode='', Actor1KnownGroupCode='', Actor1EthnicCode='', Actor1Religion1Code='', Actor1Religion2Code='', Actor1Type1Code='BUS', Actor1Type2Code='', Actor1Type3Code='', Actor2Code='', Actor2Name='', Actor2CountryCode='', Actor2KnownGroupCode='', Actor2EthnicCode='', Actor2Religion1Code='', Actor2Religion2Code='', Actor2Type1Code='', Actor2Type2Code='', Actor2Type3Code='', IsRootEvent='1', EventCode='070', EventBaseCode='070', EventRootCode='07', QuadClass='2', GoldsteinScale='7.0', NumMentions='12', NumSources='2', NumArticles='12', AvgTone='1.72415843232381', Actor1Geo_Type='4', Actor1Geo_FullName='American Creek, British Columbia, Canada', Actor1Geo_CountryCode='CA', Actor1Geo_ADM1Code='CA02', Actor1Geo_Lat='49.05', Actor1Geo_Long='-116', Actor1Geo_FeatureID='-560119', Actor2Geo_Type='0', Actor2Geo_FullName='', Actor2Geo_CountryCode='', Actor2Geo_ADM1Code='', Actor2Geo_Lat='', Actor2Geo_Long='', Actor2Geo_FeatureID='', ActionGeo_Type='4', ActionGeo_FullName='American Creek, British Columbia, Canada', ActionGeo_CountryCode='CA', ActionGeo_ADM1Code='CA02', ActionGeo_Lat='49.05', ActionGeo_Long='-116', ActionGeo_FeatureID='-560119', DATEADDED='20160101', SOURCEURL='http://www.digitaljournal.com/pr/2789583'),\n",
       " Row(GLOBALEVENTID='498554167', SQLDATE='20060103', MonthYear='200601', Year='2006', FractionDate='2006.0082', Actor1Code='BUS', Actor1Name='CORPORATION', Actor1CountryCode='', Actor1KnownGroupCode='', Actor1EthnicCode='', Actor1Religion1Code='', Actor1Religion2Code='', Actor1Type1Code='BUS', Actor1Type2Code='', Actor1Type3Code='', Actor2Code='CAN', Actor2Name='CANADA', Actor2CountryCode='CAN', Actor2KnownGroupCode='', Actor2EthnicCode='', Actor2Religion1Code='', Actor2Religion2Code='', Actor2Type1Code='', Actor2Type2Code='', Actor2Type3Code='', IsRootEvent='1', EventCode='051', EventBaseCode='051', EventRootCode='05', QuadClass='1', GoldsteinScale='3.4', NumMentions='6', NumSources='2', NumArticles='6', AvgTone='1.72415843232381', Actor1Geo_Type='4', Actor1Geo_FullName='American Creek, British Columbia, Canada', Actor1Geo_CountryCode='CA', Actor1Geo_ADM1Code='CA02', Actor1Geo_Lat='49.05', Actor1Geo_Long='-116', Actor1Geo_FeatureID='-560119', Actor2Geo_Type='4', Actor2Geo_FullName='American Creek, British Columbia, Canada', Actor2Geo_CountryCode='CA', Actor2Geo_ADM1Code='CA02', Actor2Geo_Lat='49.05', Actor2Geo_Long='-116', Actor2Geo_FeatureID='-560119', ActionGeo_Type='4', ActionGeo_FullName='American Creek, British Columbia, Canada', ActionGeo_CountryCode='CA', ActionGeo_ADM1Code='CA02', ActionGeo_Lat='49.05', ActionGeo_Long='-116', ActionGeo_FeatureID='-560119', DATEADDED='20160101', SOURCEURL='http://www.digitaljournal.com/pr/2789583'),\n",
       " Row(GLOBALEVENTID='498554168', SQLDATE='20060103', MonthYear='200601', Year='2006', FractionDate='2006.0082', Actor1Code='BUS', Actor1Name='CORPORATION', Actor1CountryCode='', Actor1KnownGroupCode='', Actor1EthnicCode='', Actor1Religion1Code='', Actor1Religion2Code='', Actor1Type1Code='BUS', Actor1Type2Code='', Actor1Type3Code='', Actor2Code='CAN', Actor2Name='CANADA', Actor2CountryCode='CAN', Actor2KnownGroupCode='', Actor2EthnicCode='', Actor2Religion1Code='', Actor2Religion2Code='', Actor2Type1Code='', Actor2Type2Code='', Actor2Type3Code='', IsRootEvent='1', EventCode='051', EventBaseCode='051', EventRootCode='05', QuadClass='1', GoldsteinScale='3.4', NumMentions='2', NumSources='2', NumArticles='2', AvgTone='1.72415843232381', Actor1Geo_Type='5', Actor1Geo_FullName='Province Of British Columbia, British Columbia, Canada', Actor1Geo_CountryCode='CA', Actor1Geo_ADM1Code='CA02', Actor1Geo_Lat='55', Actor1Geo_Long='-125', Actor1Geo_FeatureID='-561661', Actor2Geo_Type='5', Actor2Geo_FullName='Province Of British Columbia, British Columbia, Canada', Actor2Geo_CountryCode='CA', Actor2Geo_ADM1Code='CA02', Actor2Geo_Lat='55', Actor2Geo_Long='-125', Actor2Geo_FeatureID='-561661', ActionGeo_Type='5', ActionGeo_FullName='Province Of British Columbia, British Columbia, Canada', ActionGeo_CountryCode='CA', ActionGeo_ADM1Code='CA02', ActionGeo_Lat='55', ActionGeo_Long='-125', ActionGeo_FeatureID='-561661', DATEADDED='20160101', SOURCEURL='http://www.digitaljournal.com/pr/2789583')]"
      ]
     },
     "execution_count": 84,
     "metadata": {},
     "output_type": "execute_result"
    }
   ],
   "source": [
    "df.take(5)"
   ]
  },
  {
   "cell_type": "markdown",
   "metadata": {},
   "source": [
    "## Data Cleansing"
   ]
  },
  {
   "cell_type": "code",
   "execution_count": 87,
   "metadata": {},
   "outputs": [],
   "source": [
    "# GoldsteinScale, AvgTone, Actor1Geo_Lat, Actor1Geo_Long should be decimals\n",
    "df = df.withColumn(\"GoldsteinScale\",df[\"GoldsteinScale\"].cast('float'))\n",
    "df = df.withColumn(\"AvgTone\",df[\"AvgTone\"].cast('float'))  \n",
    "df = df.withColumn(\"Actor1Geo_Lat\",df[\"Actor1Geo_Lat\"].cast('float'))  \n",
    "df = df.withColumn(\"Actor1Geo_Long\",df[\"Actor1Geo_Long\"].cast('float'))"
   ]
  },
  {
   "cell_type": "code",
   "execution_count": 88,
   "metadata": {},
   "outputs": [],
   "source": [
    "from pyspark.sql.types import IntegerType\n",
    "\n",
    "# NumMentions, NumSources, NumArticles should be integer\n",
    "df = df.withColumn(\"NumMentions\", df[\"NumMentions\"].cast(IntegerType()))\n",
    "df = df.withColumn(\"NumSources\", df[\"NumSources\"].cast(IntegerType()))\n",
    "df = df.withColumn(\"NumArticles\", df[\"NumArticles\"].cast(IntegerType()))"
   ]
  },
  {
   "cell_type": "code",
   "execution_count": null,
   "metadata": {},
   "outputs": [],
   "source": [
    "# no need to remove missing values for analysis because the event happend anyways and maybe there is only 1 actor\n",
    "# by may consider remove missing values for models building. To remove:\n",
    "# df.na.drop()"
   ]
  },
  {
   "cell_type": "code",
   "execution_count": 90,
   "metadata": {},
   "outputs": [
    {
     "name": "stdout",
     "output_type": "stream",
     "text": [
      "+-------------+-------+---------+----+------------+----------+----------+-----------------+--------------------+----------------+-------------------+-------------------+---------------+---------------+---------------+----------+----------+-----------------+--------------------+----------------+-------------------+-------------------+---------------+---------------+---------------+-----------+---------+-------------+-------------+---------+--------------+-----------+----------+-----------+-------+--------------+------------------+---------------------+------------------+-------------+--------------+-------------------+--------------+------------------+---------------------+------------------+-------------+--------------+-------------------+--------------+------------------+---------------------+------------------+-------------+--------------+-------------------+---------+---------+\n",
      "|GLOBALEVENTID|SQLDATE|MonthYear|Year|FractionDate|Actor1Code|Actor1Name|Actor1CountryCode|Actor1KnownGroupCode|Actor1EthnicCode|Actor1Religion1Code|Actor1Religion2Code|Actor1Type1Code|Actor1Type2Code|Actor1Type3Code|Actor2Code|Actor2Name|Actor2CountryCode|Actor2KnownGroupCode|Actor2EthnicCode|Actor2Religion1Code|Actor2Religion2Code|Actor2Type1Code|Actor2Type2Code|Actor2Type3Code|IsRootEvent|EventCode|EventBaseCode|EventRootCode|QuadClass|GoldsteinScale|NumMentions|NumSources|NumArticles|AvgTone|Actor1Geo_Type|Actor1Geo_FullName|Actor1Geo_CountryCode|Actor1Geo_ADM1Code|Actor1Geo_Lat|Actor1Geo_Long|Actor1Geo_FeatureID|Actor2Geo_Type|Actor2Geo_FullName|Actor2Geo_CountryCode|Actor2Geo_ADM1Code|Actor2Geo_Lat|Actor2Geo_Long|Actor2Geo_FeatureID|ActionGeo_Type|ActionGeo_FullName|ActionGeo_CountryCode|ActionGeo_ADM1Code|ActionGeo_Lat|ActionGeo_Long|ActionGeo_FeatureID|DATEADDED|SOURCEURL|\n",
      "+-------------+-------+---------+----+------------+----------+----------+-----------------+--------------------+----------------+-------------------+-------------------+---------------+---------------+---------------+----------+----------+-----------------+--------------------+----------------+-------------------+-------------------+---------------+---------------+---------------+-----------+---------+-------------+-------------+---------+--------------+-----------+----------+-----------+-------+--------------+------------------+---------------------+------------------+-------------+--------------+-------------------+--------------+------------------+---------------------+------------------+-------------+--------------+-------------------+--------------+------------------+---------------------+------------------+-------------+--------------+-------------------+---------+---------+\n",
      "|            0|      0|        0|   0|           0|         0|         0|                0|                   0|               0|                  0|                  0|              0|              0|              0|         0|         0|                0|                   0|               0|                  0|                  0|              0|              0|              0|          0|        0|            0|            0|        0|             0|          0|         0|          0|      0|             0|                 0|                    0|                 0|            0|             0|                  0|             0|                 0|                    0|                 0|            0|             0|                  0|             0|                 0|                    0|                 0|            0|             0|                  0|        0|        0|\n",
      "+-------------+-------+---------+----+------------+----------+----------+-----------------+--------------------+----------------+-------------------+-------------------+---------------+---------------+---------------+----------+----------+-----------------+--------------------+----------------+-------------------+-------------------+---------------+---------------+---------------+-----------+---------+-------------+-------------+---------+--------------+-----------+----------+-----------+-------+--------------+------------------+---------------------+------------------+-------------+--------------+-------------------+--------------+------------------+---------------------+------------------+-------------+--------------+-------------------+--------------+------------------+---------------------+------------------+-------------+--------------+-------------------+---------+---------+\n",
      "\n"
     ]
    }
   ],
   "source": [
    "# check for missing values in each column\n",
    "from pyspark.sql.functions import isnan, when, count, col\n",
    "\n",
    "df.select([count(when(isnan(c), c)).alias(c) for c in df.columns]).show()"
   ]
  },
  {
   "cell_type": "code",
   "execution_count": 92,
   "metadata": {},
   "outputs": [
    {
     "name": "stdout",
     "output_type": "stream",
     "text": [
      "Collecting gdelt\n",
      "  Downloading gdelt-0.1.10.6.1-py2.py3-none-any.whl (773 kB)\n",
      "\u001b[K     |████████████████████████████████| 773 kB 40.1 MB/s eta 0:00:01\n",
      "\u001b[?25hRequirement already satisfied: python-dateutil in /home/hadoop/miniconda/lib/python3.7/site-packages (from gdelt) (2.8.1)\n",
      "Requirement already satisfied: numpy in /home/hadoop/miniconda/lib/python3.7/site-packages (from gdelt) (1.18.1)\n",
      "Requirement already satisfied: requests in /home/hadoop/miniconda/lib/python3.7/site-packages (from gdelt) (2.23.0)\n",
      "Requirement already satisfied: pandas>=0.20.3 in /home/hadoop/miniconda/lib/python3.7/site-packages (from gdelt) (1.0.3)\n",
      "Requirement already satisfied: six>=1.5 in /home/hadoop/miniconda/lib/python3.7/site-packages (from python-dateutil->gdelt) (1.14.0)\n",
      "Requirement already satisfied: urllib3!=1.25.0,!=1.25.1,<1.26,>=1.21.1 in /home/hadoop/miniconda/lib/python3.7/site-packages (from requests->gdelt) (1.25.8)\n",
      "Requirement already satisfied: chardet<4,>=3.0.2 in /home/hadoop/miniconda/lib/python3.7/site-packages (from requests->gdelt) (3.0.4)\n",
      "Requirement already satisfied: certifi>=2017.4.17 in /home/hadoop/miniconda/lib/python3.7/site-packages (from requests->gdelt) (2020.4.5.1)\n",
      "Requirement already satisfied: idna<3,>=2.5 in /home/hadoop/miniconda/lib/python3.7/site-packages (from requests->gdelt) (2.9)\n",
      "Requirement already satisfied: pytz>=2017.2 in /home/hadoop/miniconda/lib/python3.7/site-packages (from pandas>=0.20.3->gdelt) (2019.3)\n",
      "Installing collected packages: gdelt\n",
      "Successfully installed gdelt-0.1.10.6\n",
      "Note: you may need to restart the kernel to use updated packages.\n"
     ]
    }
   ],
   "source": [
    "# gdelt is actually a library, so can install and import it\n",
    "# but please keep using the df loaded earlier as the dataset, and do not use this dataset directly\n",
    "# because I dont think this met Marck's requirement as large dataset\n",
    "# instead you can use it guide the analysis since it's easier to navigate\n",
    "pip install gdelt"
   ]
  },
  {
   "cell_type": "code",
   "execution_count": 93,
   "metadata": {},
   "outputs": [],
   "source": [
    "import gdelt\n",
    "\n",
    "gd = gdelt.gdelt(version=2)\n",
    "\n",
    "results = gd.Search(['2016 10 19','2016 10 22'],table='events',coverage=True,translation=False)"
   ]
  },
  {
   "cell_type": "code",
   "execution_count": 95,
   "metadata": {},
   "outputs": [
    {
     "data": {
      "text/html": [
       "<div>\n",
       "<style scoped>\n",
       "    .dataframe tbody tr th:only-of-type {\n",
       "        vertical-align: middle;\n",
       "    }\n",
       "\n",
       "    .dataframe tbody tr th {\n",
       "        vertical-align: top;\n",
       "    }\n",
       "\n",
       "    .dataframe thead th {\n",
       "        text-align: right;\n",
       "    }\n",
       "</style>\n",
       "<table border=\"1\" class=\"dataframe\">\n",
       "  <thead>\n",
       "    <tr style=\"text-align: right;\">\n",
       "      <th></th>\n",
       "      <th>GLOBALEVENTID</th>\n",
       "      <th>SQLDATE</th>\n",
       "      <th>MonthYear</th>\n",
       "      <th>Year</th>\n",
       "      <th>FractionDate</th>\n",
       "      <th>Actor1Code</th>\n",
       "      <th>Actor1Name</th>\n",
       "      <th>Actor1CountryCode</th>\n",
       "      <th>Actor1KnownGroupCode</th>\n",
       "      <th>Actor1EthnicCode</th>\n",
       "      <th>...</th>\n",
       "      <th>ActionGeo_Type</th>\n",
       "      <th>ActionGeo_FullName</th>\n",
       "      <th>ActionGeo_CountryCode</th>\n",
       "      <th>ActionGeo_ADM1Code</th>\n",
       "      <th>ActionGeo_ADM2Code</th>\n",
       "      <th>ActionGeo_Lat</th>\n",
       "      <th>ActionGeo_Long</th>\n",
       "      <th>ActionGeo_FeatureID</th>\n",
       "      <th>DATEADDED</th>\n",
       "      <th>SOURCEURL</th>\n",
       "    </tr>\n",
       "  </thead>\n",
       "  <tbody>\n",
       "    <tr>\n",
       "      <th>0</th>\n",
       "      <td>590338235</td>\n",
       "      <td>20151020</td>\n",
       "      <td>201510</td>\n",
       "      <td>2015</td>\n",
       "      <td>2015.7945</td>\n",
       "      <td>NaN</td>\n",
       "      <td>NaN</td>\n",
       "      <td>NaN</td>\n",
       "      <td>NaN</td>\n",
       "      <td>NaN</td>\n",
       "      <td>...</td>\n",
       "      <td>4</td>\n",
       "      <td>Tambaram, Tamil Nadu, India</td>\n",
       "      <td>IN</td>\n",
       "      <td>IN25</td>\n",
       "      <td>70244</td>\n",
       "      <td>12.92720</td>\n",
       "      <td>80.1106</td>\n",
       "      <td>-2112548</td>\n",
       "      <td>20161019003000</td>\n",
       "      <td>http://www.thehindu.com/news/cities/chennai/de...</td>\n",
       "    </tr>\n",
       "    <tr>\n",
       "      <th>1</th>\n",
       "      <td>590338236</td>\n",
       "      <td>20151020</td>\n",
       "      <td>201510</td>\n",
       "      <td>2015</td>\n",
       "      <td>2015.7945</td>\n",
       "      <td>AUS</td>\n",
       "      <td>AUSTRALIAN</td>\n",
       "      <td>AUS</td>\n",
       "      <td>NaN</td>\n",
       "      <td>NaN</td>\n",
       "      <td>...</td>\n",
       "      <td>4</td>\n",
       "      <td>Kuala Lumpur, Kuala Lumpur, Malaysia</td>\n",
       "      <td>MY</td>\n",
       "      <td>MY14</td>\n",
       "      <td>18585</td>\n",
       "      <td>3.16667</td>\n",
       "      <td>101.7000</td>\n",
       "      <td>-2403010</td>\n",
       "      <td>20161019003000</td>\n",
       "      <td>http://www.malaysiakini.com/news/359575</td>\n",
       "    </tr>\n",
       "    <tr>\n",
       "      <th>2</th>\n",
       "      <td>590338237</td>\n",
       "      <td>20151020</td>\n",
       "      <td>201510</td>\n",
       "      <td>2015</td>\n",
       "      <td>2015.7945</td>\n",
       "      <td>AUS</td>\n",
       "      <td>AUSTRALIAN</td>\n",
       "      <td>AUS</td>\n",
       "      <td>NaN</td>\n",
       "      <td>NaN</td>\n",
       "      <td>...</td>\n",
       "      <td>4</td>\n",
       "      <td>Ulaanbaatar, Ulaanbaatar, Mongolia</td>\n",
       "      <td>MG</td>\n",
       "      <td>MG20</td>\n",
       "      <td>123600</td>\n",
       "      <td>47.91670</td>\n",
       "      <td>106.9170</td>\n",
       "      <td>-2353539</td>\n",
       "      <td>20161019003000</td>\n",
       "      <td>http://www.malaysiakini.com/news/359575</td>\n",
       "    </tr>\n",
       "    <tr>\n",
       "      <th>3</th>\n",
       "      <td>590338238</td>\n",
       "      <td>20151020</td>\n",
       "      <td>201510</td>\n",
       "      <td>2015</td>\n",
       "      <td>2015.7945</td>\n",
       "      <td>BUS</td>\n",
       "      <td>BANK</td>\n",
       "      <td>NaN</td>\n",
       "      <td>NaN</td>\n",
       "      <td>NaN</td>\n",
       "      <td>...</td>\n",
       "      <td>5</td>\n",
       "      <td>Tamil Nadu, Tamil Nadu, India</td>\n",
       "      <td>IN</td>\n",
       "      <td>IN25</td>\n",
       "      <td>70248</td>\n",
       "      <td>11.00000</td>\n",
       "      <td>78.0000</td>\n",
       "      <td>-2112557</td>\n",
       "      <td>20161019003000</td>\n",
       "      <td>http://www.thehindu.com/news/cities/chennai/de...</td>\n",
       "    </tr>\n",
       "    <tr>\n",
       "      <th>4</th>\n",
       "      <td>590338239</td>\n",
       "      <td>20151020</td>\n",
       "      <td>201510</td>\n",
       "      <td>2015</td>\n",
       "      <td>2015.7945</td>\n",
       "      <td>BUS</td>\n",
       "      <td>BANK</td>\n",
       "      <td>NaN</td>\n",
       "      <td>NaN</td>\n",
       "      <td>NaN</td>\n",
       "      <td>...</td>\n",
       "      <td>4</td>\n",
       "      <td>Tambaram, Tamil Nadu, India</td>\n",
       "      <td>IN</td>\n",
       "      <td>IN25</td>\n",
       "      <td>70244</td>\n",
       "      <td>12.92720</td>\n",
       "      <td>80.1106</td>\n",
       "      <td>-2112548</td>\n",
       "      <td>20161019003000</td>\n",
       "      <td>http://www.thehindu.com/news/cities/chennai/de...</td>\n",
       "    </tr>\n",
       "    <tr>\n",
       "      <th>5</th>\n",
       "      <td>590338240</td>\n",
       "      <td>20151020</td>\n",
       "      <td>201510</td>\n",
       "      <td>2015</td>\n",
       "      <td>2015.7945</td>\n",
       "      <td>GOVHLH</td>\n",
       "      <td>HEALTH DEPARTMENT</td>\n",
       "      <td>NaN</td>\n",
       "      <td>NaN</td>\n",
       "      <td>NaN</td>\n",
       "      <td>...</td>\n",
       "      <td>4</td>\n",
       "      <td>Delhi, Delhi, India</td>\n",
       "      <td>IN</td>\n",
       "      <td>IN07</td>\n",
       "      <td>17911</td>\n",
       "      <td>28.66670</td>\n",
       "      <td>77.2167</td>\n",
       "      <td>-2094230</td>\n",
       "      <td>20161019003000</td>\n",
       "      <td>http://www.thehindu.com/news/cities/Delhi/dcw-...</td>\n",
       "    </tr>\n",
       "    <tr>\n",
       "      <th>6</th>\n",
       "      <td>590338241</td>\n",
       "      <td>20151020</td>\n",
       "      <td>201510</td>\n",
       "      <td>2015</td>\n",
       "      <td>2015.7945</td>\n",
       "      <td>IND</td>\n",
       "      <td>DELHI</td>\n",
       "      <td>IND</td>\n",
       "      <td>NaN</td>\n",
       "      <td>NaN</td>\n",
       "      <td>...</td>\n",
       "      <td>4</td>\n",
       "      <td>Delhi, Delhi, India</td>\n",
       "      <td>IN</td>\n",
       "      <td>IN07</td>\n",
       "      <td>17911</td>\n",
       "      <td>28.66670</td>\n",
       "      <td>77.2167</td>\n",
       "      <td>-2094230</td>\n",
       "      <td>20161019003000</td>\n",
       "      <td>http://www.thehindu.com/news/cities/Delhi/dcw-...</td>\n",
       "    </tr>\n",
       "    <tr>\n",
       "      <th>7</th>\n",
       "      <td>590338242</td>\n",
       "      <td>20151020</td>\n",
       "      <td>201510</td>\n",
       "      <td>2015</td>\n",
       "      <td>2015.7945</td>\n",
       "      <td>INDGOV</td>\n",
       "      <td>DELHI</td>\n",
       "      <td>IND</td>\n",
       "      <td>NaN</td>\n",
       "      <td>NaN</td>\n",
       "      <td>...</td>\n",
       "      <td>4</td>\n",
       "      <td>Delhi, Delhi, India</td>\n",
       "      <td>IN</td>\n",
       "      <td>IN07</td>\n",
       "      <td>17911</td>\n",
       "      <td>28.66670</td>\n",
       "      <td>77.2167</td>\n",
       "      <td>-2094230</td>\n",
       "      <td>20161019003000</td>\n",
       "      <td>http://www.thehindu.com/news/cities/Delhi/dcw-...</td>\n",
       "    </tr>\n",
       "    <tr>\n",
       "      <th>8</th>\n",
       "      <td>590338243</td>\n",
       "      <td>20151020</td>\n",
       "      <td>201510</td>\n",
       "      <td>2015</td>\n",
       "      <td>2015.7945</td>\n",
       "      <td>JUDJUD</td>\n",
       "      <td>SUPERIOR COURT</td>\n",
       "      <td>NaN</td>\n",
       "      <td>NaN</td>\n",
       "      <td>NaN</td>\n",
       "      <td>...</td>\n",
       "      <td>2</td>\n",
       "      <td>Connecticut, United States</td>\n",
       "      <td>US</td>\n",
       "      <td>USCT</td>\n",
       "      <td>NaN</td>\n",
       "      <td>41.58340</td>\n",
       "      <td>-72.7622</td>\n",
       "      <td>CT</td>\n",
       "      <td>20161019003000</td>\n",
       "      <td>http://marcellus.com/news/id/140165/court-rule...</td>\n",
       "    </tr>\n",
       "    <tr>\n",
       "      <th>9</th>\n",
       "      <td>590338244</td>\n",
       "      <td>20151020</td>\n",
       "      <td>201510</td>\n",
       "      <td>2015</td>\n",
       "      <td>2015.7945</td>\n",
       "      <td>MNCUSAMED</td>\n",
       "      <td>GOOGLE</td>\n",
       "      <td>USA</td>\n",
       "      <td>NaN</td>\n",
       "      <td>NaN</td>\n",
       "      <td>...</td>\n",
       "      <td>3</td>\n",
       "      <td>Philadelphia, Pennsylvania, United States</td>\n",
       "      <td>US</td>\n",
       "      <td>USPA</td>\n",
       "      <td>PA101</td>\n",
       "      <td>39.95230</td>\n",
       "      <td>-75.1638</td>\n",
       "      <td>1209052</td>\n",
       "      <td>20161019003000</td>\n",
       "      <td>http://wisconsingazette.com/2016/10/18/robots-...</td>\n",
       "    </tr>\n",
       "  </tbody>\n",
       "</table>\n",
       "<p>10 rows × 62 columns</p>\n",
       "</div>"
      ],
      "text/plain": [
       "   GLOBALEVENTID   SQLDATE  MonthYear  Year  FractionDate Actor1Code  \\\n",
       "0      590338235  20151020     201510  2015     2015.7945        NaN   \n",
       "1      590338236  20151020     201510  2015     2015.7945        AUS   \n",
       "2      590338237  20151020     201510  2015     2015.7945        AUS   \n",
       "3      590338238  20151020     201510  2015     2015.7945        BUS   \n",
       "4      590338239  20151020     201510  2015     2015.7945        BUS   \n",
       "5      590338240  20151020     201510  2015     2015.7945     GOVHLH   \n",
       "6      590338241  20151020     201510  2015     2015.7945        IND   \n",
       "7      590338242  20151020     201510  2015     2015.7945     INDGOV   \n",
       "8      590338243  20151020     201510  2015     2015.7945     JUDJUD   \n",
       "9      590338244  20151020     201510  2015     2015.7945  MNCUSAMED   \n",
       "\n",
       "          Actor1Name Actor1CountryCode Actor1KnownGroupCode Actor1EthnicCode  \\\n",
       "0                NaN               NaN                  NaN              NaN   \n",
       "1         AUSTRALIAN               AUS                  NaN              NaN   \n",
       "2         AUSTRALIAN               AUS                  NaN              NaN   \n",
       "3               BANK               NaN                  NaN              NaN   \n",
       "4               BANK               NaN                  NaN              NaN   \n",
       "5  HEALTH DEPARTMENT               NaN                  NaN              NaN   \n",
       "6              DELHI               IND                  NaN              NaN   \n",
       "7              DELHI               IND                  NaN              NaN   \n",
       "8     SUPERIOR COURT               NaN                  NaN              NaN   \n",
       "9             GOOGLE               USA                  NaN              NaN   \n",
       "\n",
       "   ... ActionGeo_Type                         ActionGeo_FullName  \\\n",
       "0  ...              4                Tambaram, Tamil Nadu, India   \n",
       "1  ...              4       Kuala Lumpur, Kuala Lumpur, Malaysia   \n",
       "2  ...              4         Ulaanbaatar, Ulaanbaatar, Mongolia   \n",
       "3  ...              5              Tamil Nadu, Tamil Nadu, India   \n",
       "4  ...              4                Tambaram, Tamil Nadu, India   \n",
       "5  ...              4                        Delhi, Delhi, India   \n",
       "6  ...              4                        Delhi, Delhi, India   \n",
       "7  ...              4                        Delhi, Delhi, India   \n",
       "8  ...              2                 Connecticut, United States   \n",
       "9  ...              3  Philadelphia, Pennsylvania, United States   \n",
       "\n",
       "  ActionGeo_CountryCode ActionGeo_ADM1Code ActionGeo_ADM2Code ActionGeo_Lat  \\\n",
       "0                    IN               IN25              70244      12.92720   \n",
       "1                    MY               MY14              18585       3.16667   \n",
       "2                    MG               MG20             123600      47.91670   \n",
       "3                    IN               IN25              70248      11.00000   \n",
       "4                    IN               IN25              70244      12.92720   \n",
       "5                    IN               IN07              17911      28.66670   \n",
       "6                    IN               IN07              17911      28.66670   \n",
       "7                    IN               IN07              17911      28.66670   \n",
       "8                    US               USCT                NaN      41.58340   \n",
       "9                    US               USPA              PA101      39.95230   \n",
       "\n",
       "  ActionGeo_Long ActionGeo_FeatureID       DATEADDED  \\\n",
       "0        80.1106            -2112548  20161019003000   \n",
       "1       101.7000            -2403010  20161019003000   \n",
       "2       106.9170            -2353539  20161019003000   \n",
       "3        78.0000            -2112557  20161019003000   \n",
       "4        80.1106            -2112548  20161019003000   \n",
       "5        77.2167            -2094230  20161019003000   \n",
       "6        77.2167            -2094230  20161019003000   \n",
       "7        77.2167            -2094230  20161019003000   \n",
       "8       -72.7622                  CT  20161019003000   \n",
       "9       -75.1638             1209052  20161019003000   \n",
       "\n",
       "                                           SOURCEURL  \n",
       "0  http://www.thehindu.com/news/cities/chennai/de...  \n",
       "1            http://www.malaysiakini.com/news/359575  \n",
       "2            http://www.malaysiakini.com/news/359575  \n",
       "3  http://www.thehindu.com/news/cities/chennai/de...  \n",
       "4  http://www.thehindu.com/news/cities/chennai/de...  \n",
       "5  http://www.thehindu.com/news/cities/Delhi/dcw-...  \n",
       "6  http://www.thehindu.com/news/cities/Delhi/dcw-...  \n",
       "7  http://www.thehindu.com/news/cities/Delhi/dcw-...  \n",
       "8  http://marcellus.com/news/id/140165/court-rule...  \n",
       "9  http://wisconsingazette.com/2016/10/18/robots-...  \n",
       "\n",
       "[10 rows x 62 columns]"
      ]
     },
     "execution_count": 95,
     "metadata": {},
     "output_type": "execute_result"
    }
   ],
   "source": [
    "results.head(10)"
   ]
  },
  {
   "cell_type": "code",
   "execution_count": 89,
   "metadata": {},
   "outputs": [
    {
     "name": "stdout",
     "output_type": "stream",
     "text": [
      "+---------+--------+\n",
      "|QuadClass|   count|\n",
      "+---------+--------+\n",
      "|        1|44668851|\n",
      "|        4|10784200|\n",
      "|        3| 9542781|\n",
      "|        2| 8389866|\n",
      "+---------+--------+\n",
      "\n"
     ]
    }
   ],
   "source": [
    "# EventCode is the raw CAMEO action code describing the action that Actor1 performed upon Actor2\n",
    "spark.sql(\"\"\"SELECT QuadClass, count(*) as count from df \n",
    "            group by QuadClass order by count desc limit 10\"\"\").show()"
   ]
  },
  {
   "cell_type": "code",
   "execution_count": null,
   "metadata": {},
   "outputs": [],
   "source": []
  }
 ],
 "metadata": {
  "kernelspec": {
   "display_name": "Python 3",
   "language": "python",
   "name": "python3"
  },
  "language_info": {
   "codemirror_mode": {
    "name": "ipython",
    "version": 3
   },
   "file_extension": ".py",
   "mimetype": "text/x-python",
   "name": "python",
   "nbconvert_exporter": "python",
   "pygments_lexer": "ipython3",
   "version": "3.7.6"
  }
 },
 "nbformat": 4,
 "nbformat_minor": 4
}

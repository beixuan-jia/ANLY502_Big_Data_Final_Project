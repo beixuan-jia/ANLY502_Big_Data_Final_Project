{
 "cells": [
  {
   "cell_type": "code",
   "execution_count": 1,
   "metadata": {},
   "outputs": [],
   "source": [
    "import findspark\n",
    "findspark.init()\n",
    "from pyspark.sql import SparkSession\n",
    "from pyspark.conf import SparkConf\n",
    "conf = SparkConf().set('spark.driver.maxResultSize', '20g')\n",
    "spark = SparkSession.builder.appName(\"sparkml\").config(conf = conf).getOrCreate()"
   ]
  },
  {
   "cell_type": "code",
   "execution_count": 2,
   "metadata": {},
   "outputs": [
    {
     "data": {
      "text/html": [
       "\n",
       "            <div>\n",
       "                <p><b>SparkSession - in-memory</b></p>\n",
       "                \n",
       "        <div>\n",
       "            <p><b>SparkContext</b></p>\n",
       "\n",
       "            <p><a href=\"http://ip-172-31-66-151.ec2.internal:4040\">Spark UI</a></p>\n",
       "\n",
       "            <dl>\n",
       "              <dt>Version</dt>\n",
       "                <dd><code>v2.4.4</code></dd>\n",
       "              <dt>Master</dt>\n",
       "                <dd><code>yarn</code></dd>\n",
       "              <dt>AppName</dt>\n",
       "                <dd><code>sparkml</code></dd>\n",
       "            </dl>\n",
       "        </div>\n",
       "        \n",
       "            </div>\n",
       "        "
      ],
      "text/plain": [
       "<pyspark.sql.session.SparkSession at 0x7fe70c5fb210>"
      ]
     },
     "execution_count": 2,
     "metadata": {},
     "output_type": "execute_result"
    }
   ],
   "source": [
    "spark"
   ]
  },
  {
   "cell_type": "code",
   "execution_count": 3,
   "metadata": {},
   "outputs": [],
   "source": [
    "df = spark.read.parquet(\"s3://finalproject502/df.parquet\")"
   ]
  },
  {
   "cell_type": "code",
   "execution_count": 4,
   "metadata": {},
   "outputs": [
    {
     "data": {
      "text/plain": [
       "Row(GLOBALEVENTID='611051912', SQLDATE=None, MonthYear='201512', Year='2015', FractionDate='2015.9699', Actor1Code='', Actor1Name='', Actor1CountryCode='', Actor1KnownGroupCode='', Actor1EthnicCode='', Actor1Religion1Code='', Actor1Religion2Code='', Actor1Type1Code='', Actor1Type2Code='', Actor1Type3Code='', Actor2Code='BUS', Actor2Name='BUSINESS', Actor2CountryCode='', Actor2KnownGroupCode='', Actor2EthnicCode='', Actor2Religion1Code='', Actor2Religion2Code='', Actor2Type1Code='BUS', Actor2Type2Code='', Actor2Type3Code='', IsRootEvent='1', EventCode='042', EventBaseCode='042', EventRootCode='04', QuadClass='1', GoldsteinScale=1.899999976158142, NumMentions=10, NumSources=1, NumArticles=10, AvgTone=0.7025761008262634, Actor1Geo_Type='0', Actor1Geo_FullName='', Actor1Geo_CountryCode='', Actor1Geo_ADM1Code='', Actor1Geo_Lat=None, Actor1Geo_Long=None, Actor1Geo_FeatureID='', Actor2Geo_Type='4', Actor2Geo_FullName='Tanjung, Pahang, Malaysia', Actor2Geo_CountryCode='MY', Actor2Geo_ADM1Code='MY06', Actor2Geo_Lat='3.81667', Actor2Geo_Long='103.342', Actor2Geo_FeatureID='94819', ActionGeo_Type='4', ActionGeo_FullName='Tanjung, Pahang, Malaysia', ActionGeo_CountryCode='MY', ActionGeo_ADM1Code='MY06', ActionGeo_Lat='3.81667', ActionGeo_Long='103.342', ActionGeo_FeatureID='94819', DATEADDED='20161223', SOURCEURL='http://www.thestar.com.my/business/business-news/2016/12/23/t7-global-aims-to-return-to-the-black-next-year/')"
      ]
     },
     "execution_count": 4,
     "metadata": {},
     "output_type": "execute_result"
    }
   ],
   "source": [
    "df.head()"
   ]
  },
  {
   "cell_type": "code",
   "execution_count": 5,
   "metadata": {},
   "outputs": [],
   "source": [
    "import numpy as np\n",
    "import pandas as pd\n",
    "import matplotlib.pyplot as plt\n",
    "from mpl_toolkits.mplot3d import Axes3D\n",
    "from pyspark.ml.clustering import KMeans\n",
    "from pyspark.ml.feature import VectorAssembler\n",
    "from pyspark.ml.feature import VectorIndexer\n",
    "from pyspark.ml import Pipeline"
   ]
  },
  {
   "cell_type": "code",
   "execution_count": 6,
   "metadata": {},
   "outputs": [],
   "source": [
    "new = df.select(df.GLOBALEVENTID, df.EventCode.cast(\"integer\"), df.QuadClass.cast(\"integer\"), df.GoldsteinScale, df.NumSources, df.AvgTone)"
   ]
  },
  {
   "cell_type": "code",
   "execution_count": 7,
   "metadata": {},
   "outputs": [
    {
     "name": "stdout",
     "output_type": "stream",
     "text": [
      "+-------------+---------+---------+--------------+----------+-----------+\n",
      "|GLOBALEVENTID|EventCode|QuadClass|GoldsteinScale|NumSources|    AvgTone|\n",
      "+-------------+---------+---------+--------------+----------+-----------+\n",
      "|    611051912|       42|        1|           1.9|         1|  0.7025761|\n",
      "|    611051913|       10|        1|           0.0|         1|-0.73937154|\n",
      "|    611051914|       10|        1|           0.0|         1|-0.73937154|\n",
      "|    611051915|       42|        1|           1.9|         1|-0.73937154|\n",
      "|    611051916|       43|        1|           2.8|         1|  0.7025761|\n",
      "|    611051917|       36|        1|           4.0|         1|-0.73937154|\n",
      "|    611051918|       43|        1|           2.8|         1|  0.7025761|\n",
      "|    611051919|      172|        4|          -5.0|         1| -2.1311476|\n",
      "|    611051920|      172|        4|          -5.0|         1| -2.1311476|\n",
      "|    611051921|      172|        4|          -5.0|         1| -2.1311476|\n",
      "|    611051922|       10|        1|           0.0|        18| -3.4739454|\n",
      "|    611051923|       15|        1|           0.0|        96|  -7.402101|\n",
      "|    611051924|      138|        3|          -7.0|        13| -6.5946918|\n",
      "|    611051925|      120|        3|          -4.0|        17| -2.2292848|\n",
      "|    611051926|       36|        1|           4.0|         1|  3.3175356|\n",
      "|    611051927|       36|        1|           4.0|         1|  3.3175356|\n",
      "|    611051928|       71|        2|           7.4|         1| -2.7027028|\n",
      "|    611051929|       20|        1|           3.0|         8|  -4.130409|\n",
      "|    611051930|       20|        1|           3.0|         8|  -4.130409|\n",
      "|    611051931|       20|        1|           3.0|         1| -2.1802325|\n",
      "+-------------+---------+---------+--------------+----------+-----------+\n",
      "only showing top 20 rows\n",
      "\n"
     ]
    }
   ],
   "source": [
    "new = new.na.drop()\n",
    "new.show()"
   ]
  },
  {
   "cell_type": "code",
   "execution_count": 8,
   "metadata": {},
   "outputs": [
    {
     "name": "stdout",
     "output_type": "stream",
     "text": [
      "root\n",
      " |-- GLOBALEVENTID: string (nullable = true)\n",
      " |-- EventCode: integer (nullable = true)\n",
      " |-- QuadClass: integer (nullable = true)\n",
      " |-- GoldsteinScale: float (nullable = true)\n",
      " |-- NumSources: integer (nullable = true)\n",
      " |-- AvgTone: float (nullable = true)\n",
      "\n"
     ]
    }
   ],
   "source": [
    "new.printSchema()"
   ]
  },
  {
   "cell_type": "code",
   "execution_count": 9,
   "metadata": {},
   "outputs": [],
   "source": [
    "FEATURES_COL = ['EventCode', 'QuadClass', 'GoldsteinScale', 'NumSources']"
   ]
  },
  {
   "cell_type": "code",
   "execution_count": 10,
   "metadata": {},
   "outputs": [
    {
     "name": "stdout",
     "output_type": "stream",
     "text": [
      "+-------------+--------------------+\n",
      "|GLOBALEVENTID|            features|\n",
      "+-------------+--------------------+\n",
      "|    611051912|[42.0,1.0,1.89999...|\n",
      "|    611051913|  [10.0,1.0,0.0,1.0]|\n",
      "|    611051914|  [10.0,1.0,0.0,1.0]|\n",
      "|    611051915|[42.0,1.0,1.89999...|\n",
      "|    611051916|[43.0,1.0,2.79999...|\n",
      "|    611051917|  [36.0,1.0,4.0,1.0]|\n",
      "|    611051918|[43.0,1.0,2.79999...|\n",
      "|    611051919|[172.0,4.0,-5.0,1.0]|\n",
      "|    611051920|[172.0,4.0,-5.0,1.0]|\n",
      "|    611051921|[172.0,4.0,-5.0,1.0]|\n",
      "|    611051922| [10.0,1.0,0.0,18.0]|\n",
      "|    611051923| [15.0,1.0,0.0,96.0]|\n",
      "|    611051924|[138.0,3.0,-7.0,1...|\n",
      "|    611051925|[120.0,3.0,-4.0,1...|\n",
      "|    611051926|  [36.0,1.0,4.0,1.0]|\n",
      "|    611051927|  [36.0,1.0,4.0,1.0]|\n",
      "|    611051928|[71.0,2.0,7.40000...|\n",
      "|    611051929|  [20.0,1.0,3.0,8.0]|\n",
      "|    611051930|  [20.0,1.0,3.0,8.0]|\n",
      "|    611051931|  [20.0,1.0,3.0,1.0]|\n",
      "+-------------+--------------------+\n",
      "only showing top 20 rows\n",
      "\n"
     ]
    }
   ],
   "source": [
    "vecAssembler = VectorAssembler(inputCols = FEATURES_COL, outputCol=\"features\")\n",
    "d = vecAssembler.transform(new)\n",
    "df_kmeans = d.select('GLOBALEVENTID', 'features')\n",
    "df_kmeans.show()"
   ]
  },
  {
   "cell_type": "code",
   "execution_count": 11,
   "metadata": {},
   "outputs": [],
   "source": [
    "cost = np.zeros(10)\n",
    "for k in range(2,10):\n",
    "    kmeans = KMeans().setK(k).setSeed(1).setFeaturesCol(\"features\")\n",
    "    model = kmeans.fit(df_kmeans)\n",
    "    cost[k] = model.computeCost(df_kmeans)"
   ]
  },
  {
   "cell_type": "code",
   "execution_count": 12,
   "metadata": {},
   "outputs": [
    {
     "data": {
      "text/plain": [
       "Text(0, 0.5, 'cost')"
      ]
     },
     "execution_count": 12,
     "metadata": {},
     "output_type": "execute_result"
    },
    {
     "data": {
      "image/png": "[encoded data removed]",
      "text/plain": [
       "<Figure size 576x432 with 1 Axes>"
      ]
     },
     "metadata": {
      "needs_background": "light"
     },
     "output_type": "display_data"
    }
   ],
   "source": [
    "fig, ax = plt.subplots(1,1, figsize =(8,6))\n",
    "ax.plot(range(2,10),cost[2:10])\n",
    "ax.set_xlabel('k')\n",
    "ax.set_ylabel('cost')"
   ]
  },
  {
   "cell_type": "code",
   "execution_count": 13,
   "metadata": {},
   "outputs": [],
   "source": [
    "kmeans = KMeans().setK(4).setSeed(1).setFeaturesCol(\"features\")\n",
    "model = kmeans.fit(df_kmeans)\n",
    "centers = model.clusterCenters()"
   ]
  },
  {
   "cell_type": "code",
   "execution_count": 14,
   "metadata": {},
   "outputs": [],
   "source": [
    "featureIndexer = VectorIndexer(inputCol=\"features\", \\\n",
    "                               outputCol=\"indexedFeatures\",\\\n",
    "                               maxCategories=4).fit(df_kmeans)\n",
    "\n",
    "pipeline = Pipeline(stages=[featureIndexer, kmeans])\n",
    "model = pipeline.fit(df_kmeans)\n",
    "cluster = model.transform(df_kmeans)"
   ]
  },
  {
   "cell_type": "code",
   "execution_count": 15,
   "metadata": {},
   "outputs": [
    {
     "name": "stdout",
     "output_type": "stream",
     "text": [
      "+-------------+----------+\n",
      "|GLOBALEVENTID|prediction|\n",
      "+-------------+----------+\n",
      "|    611051912|         3|\n",
      "|    611051913|         3|\n",
      "|    611051914|         3|\n",
      "|    611051915|         3|\n",
      "|    611051916|         3|\n",
      "|    611051917|         3|\n",
      "|    611051918|         3|\n",
      "|    611051919|         0|\n",
      "|    611051920|         0|\n",
      "|    611051921|         0|\n",
      "|    611051922|         3|\n",
      "|    611051923|         3|\n",
      "|    611051924|         0|\n",
      "|    611051925|         0|\n",
      "|    611051926|         3|\n",
      "|    611051927|         3|\n",
      "|    611051928|         3|\n",
      "|    611051929|         3|\n",
      "|    611051930|         3|\n",
      "|    611051931|         3|\n",
      "+-------------+----------+\n",
      "only showing top 20 rows\n",
      "\n"
     ]
    }
   ],
   "source": [
    "transformed = cluster.select('GLOBALEVENTID', 'prediction')\n",
    "#df_pred = spark.createDataFrame(transformed)\n",
    "transformed.show()"
   ]
  },
  {
   "cell_type": "code",
   "execution_count": 16,
   "metadata": {},
   "outputs": [
    {
     "name": "stdout",
     "output_type": "stream",
     "text": [
      "+-------------+----------+---------+---------+--------------+----------+----------+\n",
      "|GLOBALEVENTID|prediction|EventCode|QuadClass|GoldsteinScale|NumSources|   AvgTone|\n",
      "+-------------+----------+---------+---------+--------------+----------+----------+\n",
      "|    498554248|         0|      190|        4|         -10.0|        13| -2.469016|\n",
      "|    498554366|         0|      100|        3|          -5.0|         8|-1.2281561|\n",
      "|    498554527|         3|       36|        1|           4.0|        43|-2.4500685|\n",
      "|    498554613|         0|      190|        4|         -10.0|         1|-2.9757786|\n",
      "|    498554784|         3|       71|        2|           7.4|         7| -1.426746|\n",
      "|    498555407|         3|       10|        1|           0.0|        97|-1.1519511|\n",
      "|    498555431|         3|       43|        1|           2.8|         1|-7.5527086|\n",
      "|    498555582|         3|       23|        1|           3.4|         1| 2.4922118|\n",
      "|    498555732|         0|      120|        3|          -4.0|         2|-0.7560578|\n",
      "|    498556046|         3|       46|        1|           7.0|         1|-1.3736264|\n",
      "|    498556791|         3|       20|        1|           3.0|         1| 1.2987013|\n",
      "|    498556928|         0|      138|        3|          -7.0|         5| -2.673797|\n",
      "|    498557050|         3|       20|        1|           3.0|         1|-1.7726799|\n",
      "|    498558291|         3|       36|        1|           4.0|         1|  2.016129|\n",
      "|    498558606|         3|       10|        1|           0.0|         3| -4.827586|\n",
      "|    498558647|         3|       10|        1|           0.0|         1| 5.0713153|\n",
      "|    498558728|         0|      172|        4|          -5.0|         1| -8.551069|\n",
      "|    498558766|         0|      173|        4|          -5.0|         6|-5.8179975|\n",
      "|    498559274|         0|      173|        4|          -5.0|         3| -7.219264|\n",
      "|    498559642|         3|       30|        1|           4.0|         6|-3.3852756|\n",
      "+-------------+----------+---------+---------+--------------+----------+----------+\n",
      "only showing top 20 rows\n",
      "\n"
     ]
    }
   ],
   "source": [
    "df_pred = transformed.join(new, 'GLOBALEVENTID')\n",
    "df_pred.show()"
   ]
  },
  {
   "cell_type": "code",
   "execution_count": 1,
   "metadata": {},
   "outputs": [
    {
     "ename": "NameError",
     "evalue": "name 'df_pred' is not defined",
     "output_type": "error",
     "traceback": [
      "\u001b[0;31m---------------------------------------------------------------------------\u001b[0m",
      "\u001b[0;31mNameError\u001b[0m                                 Traceback (most recent call last)",
      "\u001b[0;32m<ipython-input-1-0a5917e89a37>\u001b[0m in \u001b[0;36m<module>\u001b[0;34m\u001b[0m\n\u001b[0;32m----> 1\u001b[0;31m \u001b[0mpddf_pred\u001b[0m \u001b[0;34m=\u001b[0m \u001b[0mdf_pred\u001b[0m\u001b[0;34m.\u001b[0m\u001b[0mtoPandas\u001b[0m\u001b[0;34m(\u001b[0m\u001b[0;34m)\u001b[0m\u001b[0;34m\u001b[0m\u001b[0;34m\u001b[0m\u001b[0m\n\u001b[0m\u001b[1;32m      2\u001b[0m \u001b[0mpddf_pred\u001b[0m\u001b[0;34m.\u001b[0m\u001b[0mhead\u001b[0m\u001b[0;34m(\u001b[0m\u001b[0;34m)\u001b[0m\u001b[0;34m\u001b[0m\u001b[0;34m\u001b[0m\u001b[0m\n",
      "\u001b[0;31mNameError\u001b[0m: name 'df_pred' is not defined"
     ]
    }
   ],
   "source": [
    "pddf_pred = df_pred.toPandas()\n",
    "pddf_pred.head()"
   ]
  },
  {
   "cell_type": "code",
   "execution_count": null,
   "metadata": {},
   "outputs": [],
   "source": [
    "threedee = plt.figure(figsize=(12,10)).gca(projection='3d')\n",
    "threedee.scatter(pddf_pred.EventCode, pddf_pred.GoldsteinScale, pddf_pred.NumSources, \\\n",
    "                 size = pddf_pred.QuadClass, c = pddf_pred.prediction)\n",
    "threedee.set_xlabel('x')\n",
    "threedee.set_ylabel('y')\n",
    "threedee.set_zlabel('z')\n",
    "plt.show()"
   ]
  },
  {
   "cell_type": "code",
   "execution_count": 50,
   "metadata": {},
   "outputs": [
    {
     "ename": "TypeError",
     "evalue": "'Column' object is not callable",
     "output_type": "error",
     "traceback": [
      "\u001b[0;31m---------------------------------------------------------------------------\u001b[0m",
      "\u001b[0;31mTypeError\u001b[0m                                 Traceback (most recent call last)",
      "\u001b[0;32m<ipython-input-50-4877488293f4>\u001b[0m in \u001b[0;36m<module>\u001b[0;34m\u001b[0m\n\u001b[0;32m----> 1\u001b[0;31m \u001b[0mdf_pred\u001b[0m\u001b[0;34m.\u001b[0m\u001b[0mprediction\u001b[0m\u001b[0;34m.\u001b[0m\u001b[0mtake\u001b[0m\u001b[0;34m(\u001b[0m\u001b[0;36m1\u001b[0m\u001b[0;34m)\u001b[0m\u001b[0;34m\u001b[0m\u001b[0;34m\u001b[0m\u001b[0m\n\u001b[0m",
      "\u001b[0;31mTypeError\u001b[0m: 'Column' object is not callable"
     ]
    }
   ],
   "source": []
  },
  {
   "cell_type": "code",
   "execution_count": 83,
   "metadata": {},
   "outputs": [],
   "source": [
    "spark.stop()"
   ]
  },
  {
   "cell_type": "code",
   "execution_count": null,
   "metadata": {},
   "outputs": [],
   "source": []
  }
 ],
 "metadata": {
  "kernelspec": {
   "display_name": "Python 3",
   "language": "python",
   "name": "python3"
  },
  "language_info": {
   "codemirror_mode": {
    "name": "ipython",
    "version": 3
   },
   "file_extension": ".py",
   "mimetype": "text/x-python",
   "name": "python",
   "nbconvert_exporter": "python",
   "pygments_lexer": "ipython3",
   "version": "3.7.6"
  }
 },
 "nbformat": 4,
 "nbformat_minor": 4
}

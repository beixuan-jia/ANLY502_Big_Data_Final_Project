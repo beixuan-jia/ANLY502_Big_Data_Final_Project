{
 "cells": [
  {
   "cell_type": "code",
   "execution_count": 1,
   "metadata": {},
   "outputs": [],
   "source": [
    "import findspark\n",
    "findspark.init()\n",
    "from pyspark.sql import SparkSession\n",
    "spark = SparkSession.builder.appName(\"sparkml\").getOrCreate()"
   ]
  },
  {
   "cell_type": "code",
   "execution_count": 2,
   "metadata": {},
   "outputs": [
    {
     "data": {
      "text/html": [
       "\n",
       "            <div>\n",
       "                <p><b>SparkSession - in-memory</b></p>\n",
       "                \n",
       "        <div>\n",
       "            <p><b>SparkContext</b></p>\n",
       "\n",
       "            <p><a href=\"http://ip-172-31-69-30.ec2.internal:4040\">Spark UI</a></p>\n",
       "\n",
       "            <dl>\n",
       "              <dt>Version</dt>\n",
       "                <dd><code>v2.4.4</code></dd>\n",
       "              <dt>Master</dt>\n",
       "                <dd><code>yarn</code></dd>\n",
       "              <dt>AppName</dt>\n",
       "                <dd><code>sparkml</code></dd>\n",
       "            </dl>\n",
       "        </div>\n",
       "        \n",
       "            </div>\n",
       "        "
      ],
      "text/plain": [
       "<pyspark.sql.session.SparkSession at 0x7f64cc02b4d0>"
      ]
     },
     "execution_count": 2,
     "metadata": {},
     "output_type": "execute_result"
    }
   ],
   "source": [
    "spark"
   ]
  },
  {
   "cell_type": "code",
   "execution_count": 3,
   "metadata": {},
   "outputs": [],
   "source": [
    "# read data\n",
    "df = spark.read.parquet(\"s3://finalproject502/df.parquet\")"
   ]
  },
  {
   "cell_type": "code",
   "execution_count": 4,
   "metadata": {},
   "outputs": [
    {
     "data": {
      "text/plain": [
       "Row(GLOBALEVENTID='611051912', SQLDATE=None, MonthYear='201512', Year='2015', FractionDate='2015.9699', Actor1Code='', Actor1Name='', Actor1CountryCode='', Actor1KnownGroupCode='', Actor1EthnicCode='', Actor1Religion1Code='', Actor1Religion2Code='', Actor1Type1Code='', Actor1Type2Code='', Actor1Type3Code='', Actor2Code='BUS', Actor2Name='BUSINESS', Actor2CountryCode='', Actor2KnownGroupCode='', Actor2EthnicCode='', Actor2Religion1Code='', Actor2Religion2Code='', Actor2Type1Code='BUS', Actor2Type2Code='', Actor2Type3Code='', IsRootEvent='1', EventCode='042', EventBaseCode='042', EventRootCode='04', QuadClass='1', GoldsteinScale=1.899999976158142, NumMentions=10, NumSources=1, NumArticles=10, AvgTone=0.7025761008262634, Actor1Geo_Type='0', Actor1Geo_FullName='', Actor1Geo_CountryCode='', Actor1Geo_ADM1Code='', Actor1Geo_Lat=None, Actor1Geo_Long=None, Actor1Geo_FeatureID='', Actor2Geo_Type='4', Actor2Geo_FullName='Tanjung, Pahang, Malaysia', Actor2Geo_CountryCode='MY', Actor2Geo_ADM1Code='MY06', Actor2Geo_Lat='3.81667', Actor2Geo_Long='103.342', Actor2Geo_FeatureID='94819', ActionGeo_Type='4', ActionGeo_FullName='Tanjung, Pahang, Malaysia', ActionGeo_CountryCode='MY', ActionGeo_ADM1Code='MY06', ActionGeo_Lat='3.81667', ActionGeo_Long='103.342', ActionGeo_FeatureID='94819', DATEADDED='20161223', SOURCEURL='http://www.thestar.com.my/business/business-news/2016/12/23/t7-global-aims-to-return-to-the-black-next-year/')"
      ]
     },
     "execution_count": 4,
     "metadata": {},
     "output_type": "execute_result"
    }
   ],
   "source": [
    "df.head()"
   ]
  },
  {
   "cell_type": "code",
   "execution_count": 5,
   "metadata": {},
   "outputs": [],
   "source": [
    "import numpy as np\n",
    "import pandas as pd\n",
    "import matplotlib.pyplot as plt\n",
    "from mpl_toolkits.mplot3d import Axes3D\n",
    "from pyspark.ml.clustering import KMeans\n",
    "from pyspark.ml.feature import VectorAssembler\n",
    "from pyspark.ml.feature import VectorIndexer\n",
    "from pyspark.ml import Pipeline"
   ]
  },
  {
   "cell_type": "code",
   "execution_count": 6,
   "metadata": {},
   "outputs": [],
   "source": [
    "# select features\n",
    "new = df.select(df.GLOBALEVENTID, df.EventCode.cast(\"integer\"), df.QuadClass.cast(\"integer\"), df.GoldsteinScale, \\\n",
    "                df.NumSources, df.ActionGeo_Type.cast('integer'), df.ActionGeo_FeatureID.cast('integer'), df.AvgTone)"
   ]
  },
  {
   "cell_type": "code",
   "execution_count": 7,
   "metadata": {},
   "outputs": [
    {
     "name": "stdout",
     "output_type": "stream",
     "text": [
      "+-------------+---------+---------+--------------+----------+--------------+-------------------+-----------+\n",
      "|GLOBALEVENTID|EventCode|QuadClass|GoldsteinScale|NumSources|ActionGeo_Type|ActionGeo_FeatureID|    AvgTone|\n",
      "+-------------+---------+---------+--------------+----------+--------------+-------------------+-----------+\n",
      "|    611051912|       42|        1|           1.9|         1|             4|              94819|  0.7025761|\n",
      "|    611051913|       10|        1|           0.0|         1|             5|            -231099|-0.73937154|\n",
      "|    611051914|       10|        1|           0.0|         1|             4|            -246227|-0.73937154|\n",
      "|    611051916|       43|        1|           2.8|         1|             4|              94819|  0.7025761|\n",
      "|    611051917|       36|        1|           4.0|         1|             4|            -246227|-0.73937154|\n",
      "|    611051918|       43|        1|           2.8|         1|             4|           -2403010|  0.7025761|\n",
      "|    611051919|      172|        4|          -5.0|         1|             4|           10250189| -2.1311476|\n",
      "|    611051920|      172|        4|          -5.0|         1|             4|           10250189| -2.1311476|\n",
      "|    611051921|      172|        4|          -5.0|         1|             4|           10250189| -2.1311476|\n",
      "|    611051922|       10|        1|           0.0|        18|             4|            -126693| -3.4739454|\n",
      "|    611051926|       36|        1|           4.0|         1|             4|           -2607732|  3.3175356|\n",
      "|    611051927|       36|        1|           4.0|         1|             4|           -2607732|  3.3175356|\n",
      "|    611051928|       71|        2|           7.4|         1|             3|            1509437| -2.7027028|\n",
      "|    611051929|       20|        1|           3.0|         8|             4|           -2960561|  -4.130409|\n",
      "|    611051930|       20|        1|           3.0|         8|             3|             531871|  -4.130409|\n",
      "|    611051931|       20|        1|           3.0|         1|             4|            -291030| -2.1802325|\n",
      "|    611051932|       20|        1|           3.0|         1|             4|           -2960561| -2.1802325|\n",
      "|    611051933|       42|        1|           1.9|         1|             4|              94819|  0.7025761|\n",
      "|    611051934|       70|        2|           7.0|         1|             4|              94819|  0.7025761|\n",
      "|    611051935|       81|        2|           5.0|        51|             3|             531871| -4.5190444|\n",
      "+-------------+---------+---------+--------------+----------+--------------+-------------------+-----------+\n",
      "only showing top 20 rows\n",
      "\n"
     ]
    }
   ],
   "source": [
    "new = new.na.drop()\n",
    "new.show()"
   ]
  },
  {
   "cell_type": "code",
   "execution_count": 8,
   "metadata": {},
   "outputs": [
    {
     "name": "stdout",
     "output_type": "stream",
     "text": [
      "root\n",
      " |-- GLOBALEVENTID: string (nullable = true)\n",
      " |-- EventCode: integer (nullable = true)\n",
      " |-- QuadClass: integer (nullable = true)\n",
      " |-- GoldsteinScale: float (nullable = true)\n",
      " |-- NumSources: integer (nullable = true)\n",
      " |-- ActionGeo_Type: integer (nullable = true)\n",
      " |-- ActionGeo_FeatureID: integer (nullable = true)\n",
      " |-- AvgTone: float (nullable = true)\n",
      "\n"
     ]
    }
   ],
   "source": [
    "new.printSchema()"
   ]
  },
  {
   "cell_type": "code",
   "execution_count": 9,
   "metadata": {},
   "outputs": [],
   "source": [
    "FEATURES_COL = ['EventCode', 'QuadClass', 'GoldsteinScale', 'NumSources', 'ActionGeo_Type', 'ActionGeo_FeatureID']"
   ]
  },
  {
   "cell_type": "code",
   "execution_count": 10,
   "metadata": {},
   "outputs": [
    {
     "name": "stdout",
     "output_type": "stream",
     "text": [
      "+-------------+--------------------+\n",
      "|GLOBALEVENTID|            features|\n",
      "+-------------+--------------------+\n",
      "|    611051912|[42.0,1.0,1.89999...|\n",
      "|    611051913|[10.0,1.0,0.0,1.0...|\n",
      "|    611051914|[10.0,1.0,0.0,1.0...|\n",
      "|    611051916|[43.0,1.0,2.79999...|\n",
      "|    611051917|[36.0,1.0,4.0,1.0...|\n",
      "|    611051918|[43.0,1.0,2.79999...|\n",
      "|    611051919|[172.0,4.0,-5.0,1...|\n",
      "|    611051920|[172.0,4.0,-5.0,1...|\n",
      "|    611051921|[172.0,4.0,-5.0,1...|\n",
      "|    611051922|[10.0,1.0,0.0,18....|\n",
      "|    611051926|[36.0,1.0,4.0,1.0...|\n",
      "|    611051927|[36.0,1.0,4.0,1.0...|\n",
      "|    611051928|[71.0,2.0,7.40000...|\n",
      "|    611051929|[20.0,1.0,3.0,8.0...|\n",
      "|    611051930|[20.0,1.0,3.0,8.0...|\n",
      "|    611051931|[20.0,1.0,3.0,1.0...|\n",
      "|    611051932|[20.0,1.0,3.0,1.0...|\n",
      "|    611051933|[42.0,1.0,1.89999...|\n",
      "|    611051934|[70.0,2.0,7.0,1.0...|\n",
      "|    611051935|[81.0,2.0,5.0,51....|\n",
      "+-------------+--------------------+\n",
      "only showing top 20 rows\n",
      "\n"
     ]
    }
   ],
   "source": [
    "# combine features to vectors\n",
    "vecAssembler = VectorAssembler(inputCols = FEATURES_COL, outputCol=\"features\")\n",
    "d = vecAssembler.transform(new)\n",
    "df_kmeans = d.select('GLOBALEVENTID', 'features')\n",
    "df_kmeans.show()"
   ]
  },
  {
   "cell_type": "code",
   "execution_count": 11,
   "metadata": {},
   "outputs": [],
   "source": [
    "# find the optimal K\n",
    "cost = np.zeros(10)\n",
    "for k in range(2,10):\n",
    "    kmeans = KMeans().setK(k).setSeed(1).setFeaturesCol(\"features\")\n",
    "    model = kmeans.fit(df_kmeans)\n",
    "    cost[k] = model.computeCost(df_kmeans)"
   ]
  },
  {
   "cell_type": "code",
   "execution_count": 12,
   "metadata": {},
   "outputs": [
    {
     "data": {
      "text/plain": [
       "Text(0, 0.5, 'cost')"
      ]
     },
     "execution_count": 12,
     "metadata": {},
     "output_type": "execute_result"
    },
    {
     "data": {
      "image/png": "[encoded data removed]",
      "text/plain": [
       "<Figure size 576x432 with 1 Axes>"
      ]
     },
     "metadata": {
      "needs_background": "light"
     },
     "output_type": "display_data"
    }
   ],
   "source": [
    "fig, ax = plt.subplots(1,1, figsize =(8,6))\n",
    "ax.plot(range(2,10),cost[2:10])\n",
    "ax.set_xlabel('k')\n",
    "ax.set_ylabel('cost')"
   ]
  },
  {
   "cell_type": "code",
   "execution_count": 13,
   "metadata": {},
   "outputs": [
    {
     "data": {
      "text/plain": [
       "[-3.7462306022644043, -0.4000000059604645]"
      ]
     },
     "execution_count": 13,
     "metadata": {},
     "output_type": "execute_result"
    }
   ],
   "source": [
    "# find where to seperate AvgTone\n",
    "new.approxQuantile(\"AvgTone\", [0.33, 0.67], 0.001)"
   ]
  },
  {
   "cell_type": "code",
   "execution_count": 14,
   "metadata": {},
   "outputs": [
    {
     "name": "stdout",
     "output_type": "stream",
     "text": [
      "+-------+-------------------+\n",
      "|summary|            AvgTone|\n",
      "+-------+-------------------+\n",
      "|  count|           44495330|\n",
      "|   mean|-2.2467026303740427|\n",
      "| stddev| 3.8208872304215284|\n",
      "|    min|         -59.471684|\n",
      "|    max|          25.431034|\n",
      "+-------+-------------------+\n",
      "\n"
     ]
    }
   ],
   "source": [
    "new.describe('AvgTone').show()"
   ]
  },
  {
   "cell_type": "code",
   "execution_count": 15,
   "metadata": {},
   "outputs": [
    {
     "name": "stdout",
     "output_type": "stream",
     "text": [
      "+-------------+-----+\n",
      "|GLOBALEVENTID|label|\n",
      "+-------------+-----+\n",
      "|    611051912|    3|\n",
      "|    611051913|    2|\n",
      "|    611051914|    2|\n",
      "|    611051916|    3|\n",
      "|    611051917|    2|\n",
      "|    611051918|    3|\n",
      "|    611051919|    2|\n",
      "|    611051920|    2|\n",
      "|    611051921|    2|\n",
      "|    611051922|    2|\n",
      "|    611051926|    3|\n",
      "|    611051927|    3|\n",
      "|    611051928|    2|\n",
      "|    611051929|    1|\n",
      "|    611051930|    1|\n",
      "|    611051931|    2|\n",
      "|    611051932|    2|\n",
      "|    611051933|    3|\n",
      "|    611051934|    3|\n",
      "|    611051935|    1|\n",
      "+-------------+-----+\n",
      "only showing top 20 rows\n",
      "\n"
     ]
    }
   ],
   "source": [
    "# seperate AvgTone to new labels\n",
    "from pyspark.sql.functions import when, expr \n",
    "new.createOrReplaceTempView(\"test\")\n",
    "ss = spark.sql(\"select GLOBALEVENTID, \\\n",
    "                       CASE when AvgTone > -3.77 then \\\n",
    "                            case when AvgTone <= -0.41 then 2 \\\n",
    "                                 else 3 \\\n",
    "                            end \\\n",
    "                       else 1 \\\n",
    "                       end AS label \\\n",
    "                       from test\")\n",
    "ss.show()"
   ]
  },
  {
   "cell_type": "code",
   "execution_count": 16,
   "metadata": {},
   "outputs": [],
   "source": [
    "# K = 3, fit the model\n",
    "kmeans = KMeans().setK(3).setSeed(1).setFeaturesCol(\"features\")\n",
    "model = kmeans.fit(df_kmeans)\n",
    "centers = model.clusterCenters()"
   ]
  },
  {
   "cell_type": "code",
   "execution_count": 17,
   "metadata": {},
   "outputs": [],
   "source": [
    "featureIndexer = VectorIndexer(inputCol=\"features\", \\\n",
    "                               outputCol=\"indexedFeatures\",\\\n",
    "                               maxCategories=4).fit(df_kmeans)\n",
    "\n",
    "pipeline = Pipeline(stages=[featureIndexer, kmeans])\n",
    "model = pipeline.fit(df_kmeans)\n",
    "cluster = model.transform(df_kmeans)"
   ]
  },
  {
   "cell_type": "code",
   "execution_count": 18,
   "metadata": {},
   "outputs": [
    {
     "name": "stdout",
     "output_type": "stream",
     "text": [
      "+-------------+----------+\n",
      "|GLOBALEVENTID|prediction|\n",
      "+-------------+----------+\n",
      "|    611051912|         2|\n",
      "|    611051913|         2|\n",
      "|    611051914|         2|\n",
      "|    611051916|         2|\n",
      "|    611051917|         2|\n",
      "|    611051918|         0|\n",
      "|    611051919|         1|\n",
      "|    611051920|         1|\n",
      "|    611051921|         1|\n",
      "|    611051922|         2|\n",
      "|    611051926|         0|\n",
      "|    611051927|         0|\n",
      "|    611051928|         2|\n",
      "|    611051929|         0|\n",
      "|    611051930|         2|\n",
      "|    611051931|         2|\n",
      "|    611051932|         0|\n",
      "|    611051933|         2|\n",
      "|    611051934|         2|\n",
      "|    611051935|         2|\n",
      "+-------------+----------+\n",
      "only showing top 20 rows\n",
      "\n"
     ]
    }
   ],
   "source": [
    "transformed = cluster.select('GLOBALEVENTID', 'prediction')\n",
    "transformed.show()"
   ]
  },
  {
   "cell_type": "code",
   "execution_count": 19,
   "metadata": {},
   "outputs": [
    {
     "name": "stdout",
     "output_type": "stream",
     "text": [
      "+-------------+----------+-----+\n",
      "|GLOBALEVENTID|prediction|label|\n",
      "+-------------+----------+-----+\n",
      "|    498554248|         2|    2|\n",
      "|    498554527|         2|    2|\n",
      "|    498555431|         0|    1|\n",
      "|    498555582|         2|    3|\n",
      "|    498555732|         2|    2|\n",
      "|    498556791|         2|    3|\n",
      "|    498556928|         2|    2|\n",
      "|    498557050|         2|    2|\n",
      "|    498558291|         0|    3|\n",
      "|    498558606|         2|    1|\n",
      "|    498559642|         0|    2|\n",
      "|    498560054|         2|    2|\n",
      "|    498561337|         0|    1|\n",
      "|    498561380|         2|    3|\n",
      "|    498561738|         2|    2|\n",
      "|    498562091|         2|    3|\n",
      "|    498563314|         2|    1|\n",
      "|    498563359|         2|    3|\n",
      "|    498563555|         2|    2|\n",
      "|    498565206|         0|    3|\n",
      "+-------------+----------+-----+\n",
      "only showing top 20 rows\n",
      "\n"
     ]
    }
   ],
   "source": [
    "df_pred = transformed.join(ss, 'GLOBALEVENTID')\n",
    "df_pred.show()"
   ]
  },
  {
   "cell_type": "code",
   "execution_count": 20,
   "metadata": {},
   "outputs": [
    {
     "name": "stdout",
     "output_type": "stream",
     "text": [
      "+-------------+----------+-----+------+\n",
      "|GLOBALEVENTID|prediction|label|result|\n",
      "+-------------+----------+-----+------+\n",
      "|    498554248|         2|    2|     T|\n",
      "|    498554527|         2|    2|     T|\n",
      "|    498555431|         0|    1|     F|\n",
      "|    498555582|         2|    3|     F|\n",
      "|    498555732|         2|    2|     T|\n",
      "|    498556791|         2|    3|     F|\n",
      "|    498556928|         2|    2|     T|\n",
      "|    498557050|         2|    2|     T|\n",
      "|    498558291|         0|    3|     F|\n",
      "|    498558606|         2|    1|     F|\n",
      "|    498559642|         0|    2|     F|\n",
      "|    498560054|         2|    2|     T|\n",
      "|    498561337|         0|    1|     F|\n",
      "|    498561380|         2|    3|     F|\n",
      "|    498561738|         2|    2|     T|\n",
      "|    498562091|         2|    3|     F|\n",
      "|    498563314|         2|    1|     F|\n",
      "|    498563359|         2|    3|     F|\n",
      "|    498563555|         2|    2|     T|\n",
      "|    498565206|         0|    3|     F|\n",
      "+-------------+----------+-----+------+\n",
      "only showing top 20 rows\n",
      "\n"
     ]
    }
   ],
   "source": [
    "# check if the prediction and the label are the same\n",
    "df_pred = df_pred.withColumn('result', when(df_pred.prediction == df_pred.label, 'T').otherwise('F'))\n",
    "df_pred.show()"
   ]
  },
  {
   "cell_type": "code",
   "execution_count": 21,
   "metadata": {},
   "outputs": [
    {
     "name": "stdout",
     "output_type": "stream",
     "text": [
      "+------+--------+\n",
      "|result|   count|\n",
      "+------+--------+\n",
      "|     F|37141299|\n",
      "|     T| 7354031|\n",
      "+------+--------+\n",
      "\n"
     ]
    }
   ],
   "source": [
    "# count the number of same and different pairs\n",
    "df_pred.groupBy(\"result\").count().show()"
   ]
  },
  {
   "cell_type": "code",
   "execution_count": 22,
   "metadata": {},
   "outputs": [],
   "source": [
    "spark.stop()"
   ]
  },
  {
   "cell_type": "code",
   "execution_count": null,
   "metadata": {},
   "outputs": [],
   "source": []
  }
 ],
 "metadata": {
  "kernelspec": {
   "display_name": "Python 3",
   "language": "python",
   "name": "python3"
  },
  "language_info": {
   "codemirror_mode": {
    "name": "ipython",
    "version": 3
   },
   "file_extension": ".py",
   "mimetype": "text/x-python",
   "name": "python",
   "nbconvert_exporter": "python",
   "pygments_lexer": "ipython3",
   "version": "3.7.6"
  }
 },
 "nbformat": 4,
 "nbformat_minor": 4
}
